{
  "nbformat": 4,
  "nbformat_minor": 0,
  "metadata": {
    "colab": {
      "provenance": []
    },
    "kernelspec": {
      "name": "python3",
      "display_name": "Python 3"
    },
    "language_info": {
      "name": "python"
    }
  },
  "cells": [
    {
      "cell_type": "code",
      "execution_count": null,
      "metadata": {
        "id": "hgXqtCNi-Yg5",
        "colab": {
          "base_uri": "https://localhost:8080/"
        },
        "outputId": "055bdf51-34a7-458b-83a0-4f2208461c73"
      },
      "outputs": [
        {
          "output_type": "stream",
          "name": "stdout",
          "text": [
            "Sorted ages: [19, 19, 20, 22, 24, 24, 24, 25, 25, 26]\n",
            "Min age: 19\n",
            "Max age: 26\n",
            "Ages after adding min and max again: [19, 19, 20, 22, 24, 24, 24, 25, 25, 26, 19, 26]\n",
            "Median age: 24.0\n",
            "Average age: 22.75\n",
            "Range of ages: 7\n",
            "Absolute difference between min age and average: 3.75\n",
            "Absolute difference between max age and average: 3.25\n"
          ]
        }
      ],
      "source": [
        "#No. 1.The following is a list of 10 students ages: ages = [19, 22, 19, 24, 20, 25, 26, 24, 25, 24]\n",
        "#I. Sort the list and find the min and max age II. Add the min age and the max age again to the list\n",
        "#III. Find the median age (one middle item or two middle items divided by two) IV. Find the average age (sum of all items divided by their number )\n",
        "#V. Find the range of the ages (max minus min) VI. Compare the value of (min - average) and (max - average), use abs() method\n",
        "ages = [19, 22, 19, 24, 20, 25, 26, 24, 25, 24]\n",
        "\n",
        "# I. Sort the list and find the min and max age\n",
        "ages.sort()\n",
        "min_age = ages[0]\n",
        "max_age = ages[-1]\n",
        "print(\"Sorted ages:\", ages)\n",
        "print(\"Min age:\", min_age)\n",
        "print(\"Max age:\", max_age)\n",
        "\n",
        "# II. Add the min age and the max age again to the list\n",
        "ages.append(min_age)\n",
        "ages.append(max_age)\n",
        "print(\"Ages after adding min and max again:\", ages)\n",
        "\n",
        "# III. Find the median age\n",
        "ages.sort()\n",
        "n = len(ages)\n",
        "if n % 2 == 0:\n",
        "    median_age = (ages[n//2 - 1] + ages[n//2]) / 2\n",
        "else:\n",
        "    median_age = ages[n//2]\n",
        "print(\"Median age:\", median_age)\n",
        "\n",
        "# IV. Find the average age\n",
        "average_age = sum(ages) / len(ages)\n",
        "print(\"Average age:\", average_age)\n",
        "\n",
        "# V. Find the range of the ages\n",
        "age_range = max_age - min_age\n",
        "print(\"Range of ages:\", age_range)\n",
        "\n",
        "# VI. Compare the value of (min - average) and (max - average), use abs() method\n",
        "min_average_diff = abs(min_age - average_age)\n",
        "max_average_diff = abs(max_age - average_age)\n",
        "print(\"Absolute difference between min age and average:\", min_average_diff)\n",
        "print(\"Absolute difference between max age and average:\", max_average_diff)\n"
      ]
    },
    {
      "cell_type": "code",
      "source": [
        "#No.2.Iterate through the list, ['Python', 'Numpy','Pandas','Django', 'Flask'] using a for loop and print out the items.\n",
        "technologies = ['Python', 'Numpy', 'Pandas', 'Django', 'Flask']\n",
        "\n",
        "for tech in technologies:\n",
        "    print(tech, end=\",\")"
      ],
      "metadata": {
        "colab": {
          "base_uri": "https://localhost:8080/"
        },
        "id": "O-FhCX-I_ow_",
        "outputId": "e5d5b13d-0695-42e2-f506-e64ef8867b39"
      },
      "execution_count": null,
      "outputs": [
        {
          "output_type": "stream",
          "name": "stdout",
          "text": [
            "Python,Numpy,Pandas,Django,Flask,"
          ]
        }
      ]
    },
    {
      "cell_type": "code",
      "source": [
        "#No.3.Create fruits, vegetables and animal products tuples. I. Join the three tuples and assign it to a variable called food_stuff_tp.\n",
        "#II. Change the about food_stuff_tp tuple to a food_stuff_lt list III. Slice out the middle item or items from the food_stuff_tp tuple or food_stuff_lt list.\n",
        "#IV. Slice out the first three items and the last three items from food_staff_lt list V. Delete the food_staff_tp tuple completely\n",
        "#3. Create a set given below it_companies = {'Facebook', 'Google', 'Microsoft', 'Apple', 'IBM', 'Oracle', 'Amazon'}\n",
        "# A = {19, 22, 24, 20, 25, 26} B = {19, 22, 20, 25, 26, 24, 28, 27} age = [22, 19, 24, 25, 26, 24, 25, 24]\n",
        "#I. Find the length of the set it_companies II. Add 'Twitter' to it_companies III. Insert multiple IT companies at once to the set it_companies\n",
        "#IV. Remove one of the companies from the set it_companies V. What is the difference between remove and discard\n",
        "# I. Create fruits, vegetables, and animal products tuples\n",
        "fruits = ('guava', 'kiwi', 'avocado')\n",
        "vegetables = ('cucumbre', 'potato', 'tomato')\n",
        "animal_products = ('butter', 'chicken', 'milk')\n",
        "\n",
        "# II. Join the three tuples and assign it to a variable called food_stuff_tp\n",
        "food_stuff_tp = fruits + vegetables + animal_products\n",
        "print(\"Food stuff tuple:\", food_stuff_tp)\n",
        "\n",
        "# III. Change the food_stuff_tp tuple to a food_stuff_lt list\n",
        "food_stuff_lt = list(food_stuff_tp)\n",
        "print(\"Food stuff list:\", food_stuff_lt)\n",
        "\n",
        "# IV. Slice out the middle item or items from the food_stuff_lt list\n",
        "n = len(food_stuff_lt)\n",
        "if n % 2 == 0:\n",
        "    middle_items = food_stuff_lt[n//2 - 1 : n//2 + 1]\n",
        "else:\n",
        "    middle_items = [food_stuff_lt[n//2]]\n",
        "print(\"Middle item(s):\", middle_items)\n",
        "\n",
        "# V. Slice out the first three items and the last three items from food_stuff_lt list\n",
        "first_three_items = food_stuff_lt[:3]\n",
        "last_three_items = food_stuff_lt[-3:]\n",
        "print(\"First three items:\", first_three_items)\n",
        "print(\"Last three items:\", last_three_items)\n",
        "\n",
        "# VI. Delete the food_stuff_tp tuple completely\n",
        "del food_stuff_tp"
      ],
      "metadata": {
        "colab": {
          "base_uri": "https://localhost:8080/"
        },
        "id": "JdEvxlRw_4j2",
        "outputId": "1a79a8a3-5fac-407a-dd42-ea887a7c0bb0"
      },
      "execution_count": null,
      "outputs": [
        {
          "output_type": "stream",
          "name": "stdout",
          "text": [
            "Food stuff tuple: ('guava', 'kiwi', 'avocado', 'cucumbre', 'potato', 'tomato', 'butter', 'chicken', 'milk')\n",
            "Food stuff list: ['guava', 'kiwi', 'avocado', 'cucumbre', 'potato', 'tomato', 'butter', 'chicken', 'milk']\n",
            "Middle item(s): ['potato']\n",
            "First three items: ['guava', 'kiwi', 'avocado']\n",
            "Last three items: ['butter', 'chicken', 'milk']\n"
          ]
        }
      ]
    },
    {
      "cell_type": "code",
      "source": [
        "#No.4 From the above sets A and B I. Join A and B II. Find A intersection B III. Is A subset of B IV. Are A and B disjoint sets\n",
        "# V. Join A with B and B with A VI. What is the symmetric difference between A and B VII. Delete the sets completely\n",
        "A = {19, 22, 24, 20, 25, 26}\n",
        "B = {19, 22, 20, 25, 26, 24, 28, 27}\n",
        "\n",
        "# I. Join A and B\n",
        "A_union_B = A.union(B)\n",
        "print(\"A union B:\", A_union_B)\n",
        "\n",
        "# II. Find A intersection B\n",
        "A_intersection_B = A.intersection(B)\n",
        "print(\"A intersection B:\", A_intersection_B)\n",
        "\n",
        "# III. Is A subset of B\n",
        "is_A_subset_of_B = A.issubset(B)\n",
        "print(\"Is A a subset of B:\", is_A_subset_of_B)\n",
        "\n",
        "# IV. Are A and B disjoint sets\n",
        "are_A_and_B_disjoint = A.isdisjoint(B)\n",
        "print(\"Are A and B disjoint sets:\", are_A_and_B_disjoint)\n",
        "\n",
        "# V. Join A with B and B with A\n",
        "A_union_B = A.union(B)\n",
        "B_union_A = B.union(A)\n",
        "print(\"A union B:\", A_union_B)\n",
        "print(\"B union A:\", B_union_A)\n",
        "\n",
        "# VI. What is the symmetric difference between A and B\n",
        "symmetric_diff = A.symmetric_difference(B)\n",
        "print(\"Symmetric difference between A and B:\", symmetric_diff)\n",
        "\n",
        "# VII. Delete the sets completely\n",
        "del A\n",
        "del B\n",
        "print(\"Sets A and B are deleted.\")"
      ],
      "metadata": {
        "colab": {
          "base_uri": "https://localhost:8080/"
        },
        "id": "4xQxNoROAsaP",
        "outputId": "df68e6c4-4652-4212-9470-58a4f4057fa3"
      },
      "execution_count": null,
      "outputs": [
        {
          "output_type": "stream",
          "name": "stdout",
          "text": [
            "A union B: {19, 20, 22, 24, 25, 26, 27, 28}\n",
            "A intersection B: {19, 20, 22, 24, 25, 26}\n",
            "Is A a subset of B: True\n",
            "Are A and B disjoint sets: False\n",
            "A union B: {19, 20, 22, 24, 25, 26, 27, 28}\n",
            "B union A: {19, 20, 22, 24, 25, 26, 27, 28}\n",
            "Symmetric difference between A and B: {27, 28}\n",
            "Sets A and B are deleted.\n"
          ]
        }
      ]
    },
    {
      "cell_type": "code",
      "source": [
        "#No.5 Create an empty dictionary called dog.Add name, color, breed, legs, age to the dog dictionary\n",
        "dog = {}\n",
        "\n",
        "dog['name'] = 'Buddy'\n",
        "dog['color'] = 'Brown'\n",
        "dog['breed'] = 'Golden Retriever'\n",
        "dog['legs'] = 4\n",
        "dog['age'] = 3\n",
        "\n",
        "print(dog)"
      ],
      "metadata": {
        "colab": {
          "base_uri": "https://localhost:8080/"
        },
        "id": "5BcIIdrIBFQ-",
        "outputId": "877cac21-a2ea-408a-8109-6bdd0fa41e21"
      },
      "execution_count": null,
      "outputs": [
        {
          "output_type": "stream",
          "name": "stdout",
          "text": [
            "{'name': 'Buddy', 'color': 'Brown', 'breed': 'Golden Retriever', 'legs': 4, 'age': 3}\n"
          ]
        }
      ]
    },
    {
      "cell_type": "code",
      "source": [
        "#No.6 Create a student dictionary and add first_name, last_name, gender, age, marital status, skills, country, city and address as keys for the dictionary\n",
        "#I. Get the length of the student dictionary II. Get the value of skills and check the data type, it should be a list\n",
        "# III. Modify the skills values by adding one or two skills IV. Get the dictionary keys as a list V. Get the dictionary values as a list\n",
        "# VI. Change the dictionary to a list of tuples using items() method VII. Delete one of the items in the dictionary VIII. Delete one of the dictionaries\n",
        "# I. Create the student dictionary\n",
        "student = {\n",
        "    'first_name': 'Subha',\n",
        "    'last_name': 'Saha',\n",
        "    'gender': 'Male',\n",
        "    'age': 22,\n",
        "    'marital_status': 'Single',\n",
        "    'skills': ['Python', 'Java'],\n",
        "    'country': 'INDIA',\n",
        "    'city': 'Newtown',\n",
        "    'address': 'PIN: 700160'\n",
        "}\n",
        "\n",
        "# II. Get the length of the student dictionary\n",
        "length_student = len(student)\n",
        "print(\"Length of student dictionary:\", length_student)\n",
        "\n",
        "# III. Get the value of skills and check the data type\n",
        "skills = student['skills']\n",
        "print(\"Skills:\", skills)\n",
        "print(\"Data type of skills:\", type(skills))  # Should output\n",
        "\n",
        "# IV. Modify the skills values by adding one or two skills\n",
        "student['skills'].append('PLSQL')\n",
        "student['skills'].append('C++')\n",
        "print(\"Updated skills:\", student['skills'])\n",
        "\n",
        "# V. Get the dictionary keys as a list\n",
        "keys = list(student.keys())\n",
        "print(\"Dictionary keys:\", keys)\n",
        "\n",
        "# VI. Get the dictionary values as a list\n",
        "values = list(student.values())\n",
        "print(\"Dictionary values:\", values)\n",
        "\n",
        "# VII. Change the dictionary to a list of tuples using items() method\n",
        "items = list(student.items())\n",
        "print(\"Dictionary as list of tuples:\", items)\n",
        "\n",
        "# VIII. Delete one of the items in the dictionary\n",
        "del student['marital_status']\n",
        "print(\"Student dictionary after deleting 'marital_status':\", student)\n",
        "\n",
        "# IX. Delete the dictionary completely\n",
        "del student\n",
        "print(\"Student dictionary deleted.\")"
      ],
      "metadata": {
        "colab": {
          "base_uri": "https://localhost:8080/"
        },
        "id": "QbzUsek0BdGn",
        "outputId": "7a85d480-7947-4e3f-cdea-0d19e0cabd3d"
      },
      "execution_count": null,
      "outputs": [
        {
          "output_type": "stream",
          "name": "stdout",
          "text": [
            "Length of student dictionary: 9\n",
            "Skills: ['Python', 'Java']\n",
            "Data type of skills: <class 'list'>\n",
            "Updated skills: ['Python', 'Java', 'PLSQL', 'C++']\n",
            "Dictionary keys: ['first_name', 'last_name', 'gender', 'age', 'marital_status', 'skills', 'country', 'city', 'address']\n",
            "Dictionary values: ['Subha', 'Saha', 'Male', 22, 'Single', ['Python', 'Java', 'PLSQL', 'C++'], 'INDIA', 'Newtown', 'PIN: 700160']\n",
            "Dictionary as list of tuples: [('first_name', 'Subha'), ('last_name', 'Saha'), ('gender', 'Male'), ('age', 22), ('marital_status', 'Single'), ('skills', ['Python', 'Java', 'PLSQL', 'C++']), ('country', 'INDIA'), ('city', 'Newtown'), ('address', 'PIN: 700160')]\n",
            "Student dictionary after deleting 'marital_status': {'first_name': 'Subha', 'last_name': 'Saha', 'gender': 'Male', 'age': 22, 'skills': ['Python', 'Java', 'PLSQL', 'C++'], 'country': 'INDIA', 'city': 'Newtown', 'address': 'PIN: 700160'}\n",
            "Student dictionary deleted.\n"
          ]
        }
      ]
    },
    {
      "cell_type": "code",
      "source": [
        "#No.7 Create a person dictionary. person={ 'first_name': 'Asabeneh', 'last_name': 'Yetayeh', 'age': 250, 'country': 'Finland', 'is_marred': True,\n",
        "# 'skills': ['JavaScript', 'React', 'Node', 'MongoDB', 'Python'], 'address': { 'street': 'Space street', 'zipcode': '02210' } }\n",
        "#I. Check if the person dictionary has skills key, if so print out the middle skill in the skills list.\n",
        "#II. Check if the person dictionary has skills key, if so check if the person has 'Python' skill and print out the result.\n",
        "#III. If a person skills has only JavaScript and React, print('He is a front end developer'),\n",
        "#if the person skills has Node, Python, MongoDB, print('He is a backend developer'), if the person skills has React, Node and MongoDB,\n",
        "# Print('He is a fullstack developer'), else print('unknown title') - for more accurate results more conditions can be nested!\n",
        "#IV. If the person is married and if he lives in Finland, print the information in the following format:\n",
        "\n",
        "#Asabeneh Yetayeh lives in Finland. He is married.\n",
        "person = {\n",
        "    'first_name': 'Asabeneh',\n",
        "    'last_name': 'Yetayeh',\n",
        "    'age': 250,\n",
        "    'country': 'Finland',\n",
        "    'is_marred': True,\n",
        "    'skills': ['JavaScript', 'React', 'Node', 'MongoDB', 'Python'],\n",
        "    'address': {\n",
        "        'street': 'Space street',\n",
        "        'zipcode': '02210'\n",
        "    }\n",
        "}\n",
        "\n",
        "# I. Check if the person dictionary has skills key, if so, print out the middle skill in the skills list\n",
        "if 'skills' in person:\n",
        "    skills = person['skills']\n",
        "    middle_index = len(skills) // 2\n",
        "    middle_skill = skills[middle_index]\n",
        "    print(\"Middle skill:\", middle_skill)\n",
        "\n",
        "# II. Check if the person dictionary has skills key, if so, check if the person has 'Python' skill and print out the result\n",
        "if 'skills' in person:\n",
        "    has_python = 'Python' in person['skills']\n",
        "    print(\"Has Python skill:\", has_python)\n",
        "\n",
        "    # III. Determine the person's title based on their skills\n",
        "if 'JavaScript' in skills and 'React' in skills and len(skills) == 2:\n",
        "    print('He is a front end developer')\n",
        "elif 'Node' in skills and 'Python' in skills and 'MongoDB' in skills:\n",
        "    print('He is a backend developer')\n",
        "elif 'React' in skills and 'Node' in skills and 'MongoDB' in skills:\n",
        "    print('He is a fullstack developer')\n",
        "else:\n",
        "    print('Unknown title')\n",
        "\n",
        "# IV. If the person is married and lives in Finland, print the information\n",
        "if person['is_marred'] and person['country'] == 'Finland':\n",
        "    full_name = person['first_name'] + ' ' + person['last_name']\n",
        "    print(f\"{full_name} lives in Finland. He is married.\")\n"
      ],
      "metadata": {
        "colab": {
          "base_uri": "https://localhost:8080/"
        },
        "id": "3BhQU1kxB2Mn",
        "outputId": "b39bcdd2-0180-4ff8-d5f3-29526039ab60"
      },
      "execution_count": null,
      "outputs": [
        {
          "output_type": "stream",
          "name": "stdout",
          "text": [
            "Middle skill: Node\n",
            "Has Python skill: True\n",
            "He is a backend developer\n",
            "Asabeneh Yetayeh lives in Finland. He is married.\n"
          ]
        }
      ]
    },
    {
      "cell_type": "code",
      "source": [
        "#No.8 Print the season name of the year based on the month number using a dictionary.\n",
        "month_to_season = {\n",
        "    1: 'Winter', 2: 'Winter', 3: 'Spring',\n",
        "    4: 'Spring', 5: 'Spring', 6: 'Summer',\n",
        "    7: 'Summer', 8: 'Summer', 9: 'Autumn',\n",
        "    10: 'Autumn', 11: 'Autumn', 12: 'Winter'\n",
        "}\n",
        "\n",
        "def get_season(month):\n",
        "    return month_to_season.get(month, 'Invalid month')\n",
        "\n",
        "month_number = int(input(\"Enter the month number: \"))\n",
        "season = get_season(month_number)\n",
        "print(f\"The season for month {month_number} is {season}.\")"
      ],
      "metadata": {
        "colab": {
          "base_uri": "https://localhost:8080/"
        },
        "id": "bJxD5PSsCZx_",
        "outputId": "39c0fedb-7801-4a6f-86eb-b64c8502152e"
      },
      "execution_count": null,
      "outputs": [
        {
          "output_type": "stream",
          "name": "stdout",
          "text": [
            "Enter the month number: 3\n",
            "The season for month 3 is Spring.\n"
          ]
        }
      ]
    },
    {
      "cell_type": "code",
      "source": [
        "#No.9 Write a python program to check whether a given matrix is sparse or not.\n",
        "def is_sparse(matrix):\n",
        "    total_elements = len(matrix) * len(matrix[0])\n",
        "    zero_count = sum(row.count(0) for row in matrix)\n",
        "    return zero_count > total_elements / 2\n",
        "\n",
        "matrix = [\n",
        "    [5, 8, 0],\n",
        "    [0, 4, 0],\n",
        "    [2, 0, 8]\n",
        "]\n",
        "\n",
        "print(\"The matrix is sparse:\", is_sparse(matrix))"
      ],
      "metadata": {
        "colab": {
          "base_uri": "https://localhost:8080/"
        },
        "id": "JbkxBLq8Cn7n",
        "outputId": "97a4782d-a23b-4153-dd41-4ec4af8c3b20"
      },
      "execution_count": null,
      "outputs": [
        {
          "output_type": "stream",
          "name": "stdout",
          "text": [
            "The matrix is sparse: False\n"
          ]
        }
      ]
    },
    {
      "cell_type": "code",
      "source": [
        "#No.10 Write a python program to count the prime numbers in an array.\n",
        "def is_prime(n):\n",
        "    if n <= 1:\n",
        "        return False\n",
        "    for i in range(2, int(n**0.5) + 1):\n",
        "        if n % i == 0:\n",
        "            return False\n",
        "    return True\n",
        "\n",
        "def count_primes(arr):\n",
        "    return sum(1 for x in arr if is_prime(x))\n",
        "\n",
        "array = [2, 3, 4, 5, 6, 7, 8, 9, 10]\n",
        "print(\"Number of prime numbers:\", count_primes(array))\n"
      ],
      "metadata": {
        "colab": {
          "base_uri": "https://localhost:8080/"
        },
        "id": "nk_QghknCyX2",
        "outputId": "754650df-0ab5-4015-b92f-ef1ef079d9cd"
      },
      "execution_count": null,
      "outputs": [
        {
          "output_type": "stream",
          "name": "stdout",
          "text": [
            "Number of prime numbers: 4\n"
          ]
        }
      ]
    },
    {
      "cell_type": "code",
      "source": [
        "#No.11 Write a python program to find second highest element of an array.\n",
        "def second_highest(arr):\n",
        "    unique_arr = list(set(arr))\n",
        "    unique_arr.sort()\n",
        "    return unique_arr[-2] if len(unique_arr) > 1 else None\n",
        "\n",
        "array = [10, 20, 4, 45, 99, 99]\n",
        "print(\"Second highest element:\", second_highest(array))"
      ],
      "metadata": {
        "colab": {
          "base_uri": "https://localhost:8080/"
        },
        "id": "PLKxapusC7om",
        "outputId": "46623195-21d3-4971-c830-9976f5d0d857"
      },
      "execution_count": null,
      "outputs": [
        {
          "output_type": "stream",
          "name": "stdout",
          "text": [
            "Second highest element: 45\n"
          ]
        }
      ]
    },
    {
      "cell_type": "code",
      "source": [
        "#No.12 Write a python program which counts the non-zero elements in an integer array.\n",
        "def count_non_zero(arr):\n",
        "    return sum(1 for x in arr if x != 0)\n",
        "\n",
        "array = [0, 1, 2, 0, 3, 4, 0]\n",
        "print(\"Number of non-zero elements:\", count_non_zero(array))\n"
      ],
      "metadata": {
        "colab": {
          "base_uri": "https://localhost:8080/"
        },
        "id": "IiOerGAVDDYG",
        "outputId": "fb1f8536-8d5c-4c08-aa10-6e296caa441c"
      },
      "execution_count": null,
      "outputs": [
        {
          "output_type": "stream",
          "name": "stdout",
          "text": [
            "Number of non-zero elements: 4\n"
          ]
        }
      ]
    },
    {
      "cell_type": "code",
      "source": [
        "#No.13 Write a python program to merge two float arrays.\n",
        "def merge_arrays(arr1, arr2):\n",
        "    return arr1 + arr2\n",
        "\n",
        "array1 = [1.1, 2.2, 3.3]\n",
        "array2 = [4.4, 5.5, 6.6]\n",
        "print(\"Merged array:\", merge_arrays(array1, array2))"
      ],
      "metadata": {
        "colab": {
          "base_uri": "https://localhost:8080/"
        },
        "id": "Gtzf35DADLwv",
        "outputId": "a57c9411-60d2-498d-a7b2-52aff3d4d5f2"
      },
      "execution_count": null,
      "outputs": [
        {
          "output_type": "stream",
          "name": "stdout",
          "text": [
            "Merged array: [1.1, 2.2, 3.3, 4.4, 5.5, 6.6]\n"
          ]
        }
      ]
    },
    {
      "cell_type": "code",
      "source": [
        "#No.14 Write a python program where elements of two integer arrays get added index wise and get stored into a third array.\n",
        "def add_arrays(arr1, arr2):\n",
        "    return [x + y for x, y in zip(arr1, arr2)]\n",
        "\n",
        "a = [1, 2, 3]\n",
        "b = [4, 5, 6]\n",
        "print(\"Added array:\", add_arrays(a, b))"
      ],
      "metadata": {
        "colab": {
          "base_uri": "https://localhost:8080/"
        },
        "id": "AzPhL4Y-DURl",
        "outputId": "d4342c98-b694-4f84-c374-c7bf7fa58c5f"
      },
      "execution_count": null,
      "outputs": [
        {
          "output_type": "stream",
          "name": "stdout",
          "text": [
            "Added array: [5, 7, 9]\n"
          ]
        }
      ]
    },
    {
      "cell_type": "code",
      "source": [
        "#No.15 Write a python program to multiply two matrices.\n",
        "def get_matrix_input(rows, cols):\n",
        "    matrix = []\n",
        "    print(f\"Enter the elements of the matrix ({rows}x{cols}):\")\n",
        "    for i in range(rows):\n",
        "        row = list(map(int, input(f\"Enter row {i + 1}: \").split()))\n",
        "        matrix.append(row)\n",
        "    return matrix\n",
        "\n",
        "def multiply_matrices(A, B):\n",
        "    result = [[0 for _ in range(len(B[0]))] for _ in range(len(A))]\n",
        "    for i in range(len(A)):\n",
        "        for j in range(len(B[0])):\n",
        "            for k in range(len(B)):\n",
        "                result[i][j] += A[i][k] * B[k][j]\n",
        "    return result\n",
        "\n",
        "rows_A = int(input(\"Enter the number of rows for matrix A: \"))\n",
        "cols_A = int(input(\"Enter the number of columns for matrix A : \"))\n",
        "rows_B = int(input(\"Enter the number of rows for matrix B: \"))\n",
        "cols_B = int(input(\"Enter the number of columns for matrix B: \"))\n",
        "\n",
        "print(\"Matrix A:\")\n",
        "A = get_matrix_input(rows_A, cols_A)\n",
        "print(\"Matrix B:\")\n",
        "B = get_matrix_input(rows_B, cols_B)\n",
        "\n",
        "if cols_A != rows_B:\n",
        "    print(\"Matrices cannot be multiplied.\")\n",
        "else:\n",
        "  result = multiply_matrices(A, B)\n",
        "\n",
        "\n",
        "print(\"Product of matrices:\")\n",
        "for row in result:\n",
        "    print(row)"
      ],
      "metadata": {
        "colab": {
          "base_uri": "https://localhost:8080/"
        },
        "id": "vjBFNbxYDiVP",
        "outputId": "3efe6b55-a67b-4488-ea71-1910a7cf1ab1"
      },
      "execution_count": null,
      "outputs": [
        {
          "output_type": "stream",
          "name": "stdout",
          "text": [
            "Enter the number of rows for matrix A: 3\n",
            "Enter the number of columns for matrix A : 3\n",
            "Enter the number of rows for matrix B: 3\n",
            "Enter the number of columns for matrix B: 3\n",
            "Matrix A:\n",
            "Enter the elements of the matrix (3x3):\n",
            "Enter row 1: 1 3 5\n",
            "Enter row 2: 2 7 4 \n",
            "Enter row 3: 8 5 6\n",
            "Matrix B:\n",
            "Enter the elements of the matrix (3x3):\n",
            "Enter row 1: 4 7 1\n",
            "Enter row 2: 9 4 5\n",
            "Enter row 3: 3 8 6\n",
            "Product of matrices:\n",
            "[46, 59, 46]\n",
            "[83, 74, 61]\n",
            "[95, 124, 69]\n"
          ]
        }
      ]
    },
    {
      "cell_type": "code",
      "source": [
        "#No.16 Write a python program to find duplicate elements in a 1D array and find their frequency of occurrence.\n",
        "from collections import Counter\n",
        "\n",
        "def find_duplicates(arr):\n",
        "    count = Counter(arr)\n",
        "    return {k: v for k, v in count.items() if v > 1}\n",
        "\n",
        "array = [1, 2, 3, 2, 3, 4, 5]\n",
        "print(\"Duplicates and their frequencies:\", find_duplicates(array))"
      ],
      "metadata": {
        "colab": {
          "base_uri": "https://localhost:8080/"
        },
        "id": "0XQF-Kh0D_ie",
        "outputId": "bfda6c59-03c3-4440-b9e7-fdb5618278c8"
      },
      "execution_count": null,
      "outputs": [
        {
          "output_type": "stream",
          "name": "stdout",
          "text": [
            "Duplicates and their frequencies: {2: 2, 3: 2}\n"
          ]
        }
      ]
    },
    {
      "cell_type": "code",
      "source": [
        "#No.17 Write a python program to print every alternate number of a given array.\n",
        "def print_alternate(arr):\n",
        "    return arr[::2]\n",
        "\n",
        "array = [1, 2, 3, 4, 5, 6]\n",
        "print(\"Every alternate number:\", print_alternate(array))"
      ],
      "metadata": {
        "colab": {
          "base_uri": "https://localhost:8080/"
        },
        "id": "1wA3yN-2EMKd",
        "outputId": "56eb24f4-8192-4ad6-f3fe-010a8f9ea754"
      },
      "execution_count": null,
      "outputs": [
        {
          "output_type": "stream",
          "name": "stdout",
          "text": [
            "Every alternate number: [1, 3, 5]\n"
          ]
        }
      ]
    }
  ]
}