{
  "nbformat": 4,
  "nbformat_minor": 0,
  "metadata": {
    "colab": {
      "provenance": []
    },
    "kernelspec": {
      "name": "python3",
      "display_name": "Python 3"
    },
    "language_info": {
      "name": "python"
    }
  },
  "cells": [
    {
      "cell_type": "code",
      "execution_count": null,
      "metadata": {
        "colab": {
          "base_uri": "https://localhost:8080/"
        },
        "id": "87qMGvXcYSUU",
        "outputId": "25911e16-1a11-48b0-d23c-bf600c97b499"
      },
      "outputs": [
        {
          "output_type": "stream",
          "name": "stdout",
          "text": [
            "Enter a Month: March\n",
            "The season is: Spring\n"
          ]
        }
      ],
      "source": [
        "#No.1 Write a function called check-season, it takes a month parameter and returns the season:\n",
        "#Autumn, Winter, Spring or Summer.\n",
        "def check_season(month):\n",
        "  if (month == 'November') or (month == 'December') or (month == 'January'):\n",
        "    season = 'Winter'\n",
        "  elif (month == 'February') or (month == 'March') or (month == 'April'):\n",
        "    season = 'Spring'\n",
        "  elif (month == 'May') or (month == 'June') or (month == 'July'):\n",
        "    season = 'Summer'\n",
        "  elif (month == 'August') or (month == 'September') or (month == 'October'):\n",
        "    season = 'Autumn'\n",
        "  return season\n",
        "month = str(input(\"Enter a Month: \"))\n",
        "print(f\"The season is: {check_season(month)}\")"
      ]
    },
    {
      "cell_type": "code",
      "source": [
        "#No.2 Write a function called calculate_slope which return the slope of a linear equation\n",
        "def calculate_slope(x1,x2,y1,y2):\n",
        "  slope = (y2-y1)/(x2-x1)\n",
        "  return slope\n",
        "x1= float(input(\"Enter value for x1:\"))\n",
        "x2 = float(input(\"Enter value for x2:\"))\n",
        "y1 = float(input(\"Enter value for y1:\"))\n",
        "y2 = float(input(\"Enter value for y2:\"))\n",
        "print (\"The slope of a linear equation is:\",calculate_slope(x1,x2,y1,y2))\n"
      ],
      "metadata": {
        "colab": {
          "base_uri": "https://localhost:8080/"
        },
        "id": "fm4MkVB_bTSx",
        "outputId": "fe901871-6edf-4481-aeb2-583eb73704ae"
      },
      "execution_count": null,
      "outputs": [
        {
          "output_type": "stream",
          "name": "stdout",
          "text": [
            "Enter value for x1:1\n",
            "Enter value for x2:2\n",
            "Enter value for y1:3\n",
            "Enter value for y2:4\n",
            "The slope of a linear equation is: 1.0\n"
          ]
        }
      ]
    },
    {
      "cell_type": "code",
      "source": [
        "#No.3 Quadratic equation is calculated as follows: ax² + bx + c = 0.\n",
        "#Write a function which calculates solution set of a quadratic equation, _solve_quadratic_eqn_.\n",
        "# Python program to find roots\n",
        "# of a quadratic equation\n",
        "import math\n",
        "def findRoots(a, b, c):\n",
        "    if a == 0:\n",
        "        print(\"Invalid\")\n",
        "        return -1\n",
        "    d = b * b - 4 * a * c\n",
        "    sqrt_val = math.sqrt(abs(d))\n",
        "\n",
        "    if d > 0:\n",
        "        print(\"Roots are real and different \")\n",
        "        print((-b + sqrt_val)/(2 * a))\n",
        "        print((-b - sqrt_val)/(2 * a))\n",
        "    elif d == 0:\n",
        "        print(\"Roots are real and same\")\n",
        "        print(-b / (2*a))\n",
        "    else:\n",
        "        print(\"Roots are complex\")\n",
        "        print(- b / (2*a), \" + i\", sqrt_val / (2 * a))\n",
        "        print(- b / (2*a), \" - i\", sqrt_val / (2 * a))\n",
        "a=int(input(\"Enter a: \"))\n",
        "b=int(input(\"Enter b: \"))\n",
        "c= int(input(\"Enter c: \"))\n",
        "findRoots(a, b, c)"
      ],
      "metadata": {
        "id": "JOGP-c-udlTh",
        "colab": {
          "base_uri": "https://localhost:8080/"
        },
        "outputId": "aa821830-0711-43e6-c9ef-6e0951c43472"
      },
      "execution_count": null,
      "outputs": [
        {
          "output_type": "stream",
          "name": "stdout",
          "text": [
            "Enter a: 2\n",
            "Enter b: -7\n",
            "Enter c: 6\n",
            "Roots are real and different \n",
            "2.0\n",
            "1.5\n"
          ]
        }
      ]
    },
    {
      "cell_type": "code",
      "source": [
        "#No.4 Declare a function named print_list. It takes a list as a parameter\n",
        "#it prints out each element of the list.\n",
        "def print_list(n):\n",
        "  for i in n:\n",
        "    print(i)\n",
        "n= 2,5,6,7,8\n",
        "print_list(n)"
      ],
      "metadata": {
        "colab": {
          "base_uri": "https://localhost:8080/"
        },
        "id": "sFjgVdo-lZEd",
        "outputId": "8f11b5df-2bb1-4637-f0b9-9a2cceb77349"
      },
      "execution_count": null,
      "outputs": [
        {
          "output_type": "stream",
          "name": "stdout",
          "text": [
            "2\n",
            "5\n",
            "6\n",
            "7\n",
            "8\n"
          ]
        }
      ]
    },
    {
      "cell_type": "code",
      "source": [
        "#No.5 Declare a function named reverse_list. It takes an array as a parameter\n",
        "#it returns the reverse of the array (use loops).\n",
        "def reverse_list(arr = []):\n",
        "    for i in arr[::-1]:\n",
        "        print(i)\n",
        "arr_num = [3,8,5,9,1]\n",
        "(reverse_list(arr_num))"
      ],
      "metadata": {
        "colab": {
          "base_uri": "https://localhost:8080/"
        },
        "id": "_uIWQMRgpwPD",
        "outputId": "a85d6a4c-7f8c-4ea7-d6d8-973b8e1b5ff4"
      },
      "execution_count": null,
      "outputs": [
        {
          "output_type": "stream",
          "name": "stdout",
          "text": [
            "1\n",
            "9\n",
            "5\n",
            "8\n",
            "3\n"
          ]
        }
      ]
    },
    {
      "cell_type": "code",
      "source": [
        "#No.6 Compute the sum up to n terms in the series 1-1/2+1/3-1/4+1/5-...1/n\n",
        "#where n is a positive integer and input by user.\n",
        "n=int(input(\"Enter the number of terms: \"))\n",
        "sum=0\n",
        "for i in range(1,n+1):\n",
        "    if(i%2==0):\n",
        "      sum=sum-(1/i)\n",
        "    else:\n",
        "      sum+=(1/i)\n",
        "print(\"The sum of series is\",float(sum))"
      ],
      "metadata": {
        "colab": {
          "base_uri": "https://localhost:8080/"
        },
        "id": "mmL3lm8-hKGX",
        "outputId": "dea15b35-5f8a-495c-d38a-503ef44152ab"
      },
      "execution_count": null,
      "outputs": [
        {
          "output_type": "stream",
          "name": "stdout",
          "text": [
            "Enter the number of terms: 3\n",
            "The sum of series is 0.8333333333333333\n"
          ]
        }
      ]
    },
    {
      "cell_type": "code",
      "source": [
        "#No.7 Write a program to compute sin x for given x. The user should supply x and a positive integer n\n",
        "#We compute the sine of x using the series\n",
        "#the computation should use all terms in the series up through the term involving xn\n",
        "#sin x = x - x3/3! + x5/5! - x7/7! + x9/9! ........\n",
        "import math\n",
        "n=int(input(\"Enter n: \"))\n",
        "x=float(input(\"Enter x: \"))\n",
        "x=x*(3.14/180)\n",
        "p=1\n",
        "f=1\n",
        "sine=-1\n",
        "sum=x\n",
        "for i in range(3,n+1,2):\n",
        "  p=pow(x,i)\n",
        "  f=f*i*(i-1)\n",
        "  sum=sum+(p/f)\n",
        "print(sum)"
      ],
      "metadata": {
        "id": "V5I7NX5kqalU",
        "colab": {
          "base_uri": "https://localhost:8080/"
        },
        "outputId": "ddf0a1b7-06e9-4a8f-d675-bc93c168c8a0"
      },
      "execution_count": null,
      "outputs": [
        {
          "output_type": "stream",
          "name": "stdout",
          "text": [
            "Enter n: 5\n",
            "Enter x: 30\n",
            "0.5475486844737896\n"
          ]
        }
      ]
    },
    {
      "cell_type": "code",
      "source": [
        "#No.8 Write a program to compute cosine of x. The user should supply x and a positive integer n.\n",
        "#We compute the cosine of x using the series\n",
        "#the computation should use all terms in the series up through the term involving xn\n",
        "#cos x = 1 - x2/2! + x4/4! - x6/6! ....\n",
        "import math\n",
        "n = int(input(\"Enter n: \"))\n",
        "x=float(input(\"Enter x: \"))\n",
        "x=x*(3.14/180)\n",
        "p=1\n",
        "f=1\n",
        "sum=1\n",
        "sine=1\n",
        "for i in range(2,n+1,2):\n",
        "   sine=sine*(-1)\n",
        "   p=pow(x,i)\n",
        "   f=f*i*(i-1)\n",
        "   sum=sum+sine*(p/f)\n",
        "print(sum)"
      ],
      "metadata": {
        "colab": {
          "base_uri": "https://localhost:8080/"
        },
        "id": "rLwLQFsrrJ3M",
        "outputId": "9c1bdd18-0156-44db-95a3-38ae3c9d56e0"
      },
      "execution_count": null,
      "outputs": [
        {
          "output_type": "stream",
          "name": "stdout",
          "text": [
            "Enter n: 5\n",
            "Enter x: 60\n",
            "0.5022504692181068\n"
          ]
        }
      ]
    },
    {
      "cell_type": "code",
      "source": [
        "#No.9 Print the pattern upto N Lines:\n",
        "def print_pattern(n):\n",
        "  for i in range(1,n):\n",
        "    if(i==1):\n",
        "     print(\".\")\n",
        "    else:\n",
        "      print(\"/\"+\" \"*(i-2)+\"\\\\\")\n",
        "  if n>1:\n",
        "    print(\"/\"+\"_\"*(n-1)+\"\\\\\")\n",
        "n=int(input(\"Enter number: \"))\n",
        "(print_pattern(n))"
      ],
      "metadata": {
        "colab": {
          "base_uri": "https://localhost:8080/"
        },
        "id": "roJPfNO4tx8z",
        "outputId": "6f426339-88d4-4e03-d45e-fd5cf1a2fa1c"
      },
      "execution_count": null,
      "outputs": [
        {
          "output_type": "stream",
          "name": "stdout",
          "text": [
            "Enter number: 4\n",
            ".\n",
            "/\\\n",
            "/ \\\n",
            "/___\\\n"
          ]
        }
      ]
    },
    {
      "cell_type": "code",
      "source": [
        "#No.10 Print a number as a 8 segment display N Lines\n",
        "# _\n",
        "# _|\n",
        "# |_\n",
        "# _\n",
        "# _|\n",
        "# _|\n",
        "# |_|\n",
        "#   |\n",
        "# N=2 N=3 N=4\n",
        "def print_8_segment_display(N):\n",
        "    if N == 2:\n",
        "        print(\"  _ \")\n",
        "        print(\"  _| \")\n",
        "        print(\" |_\")\n",
        "\n",
        "    elif N == 3:\n",
        "        print(\"  _ \")\n",
        "        print(\"  _| \")\n",
        "        print(\"  _|  \")\n",
        "\n",
        "    elif N == 4:\n",
        "        print(\"|_|\")\n",
        "        print(\"  |\")\n",
        "\n",
        "    else:\n",
        "        print(\"Pattern not available for N =\", N)\n",
        "\n",
        "N = int(input(\"Enter the number of lines (N): \"))\n",
        "print_8_segment_display(N)"
      ],
      "metadata": {
        "id": "ucwXd2E2zvBj",
        "colab": {
          "base_uri": "https://localhost:8080/"
        },
        "outputId": "216cde94-02fc-4cce-9f27-0a4b2c3fd193"
      },
      "execution_count": null,
      "outputs": [
        {
          "output_type": "stream",
          "name": "stdout",
          "text": [
            "Enter the number of lines (N): 2\n",
            "  _ \n",
            "  _| \n",
            " |_\n"
          ]
        }
      ]
    },
    {
      "cell_type": "code",
      "source": [
        "#No.11 Print the pattern upto N lines:\n",
        "def generate_spiral_matrix(n):\n",
        "    matrix = [[0] * n for _ in range(n)]\n",
        "    num = 1\n",
        "    left, right = 0, n - 1\n",
        "    top, bottom = 0, n - 1\n",
        "\n",
        "    while left <= right and top <= bottom:\n",
        "        for i in range(left, right + 1):\n",
        "            matrix[top][i] = num\n",
        "            num += 1\n",
        "        top += 1\n",
        "\n",
        "        for i in range(top, bottom + 1):\n",
        "            matrix[i][right] = num\n",
        "            num += 1\n",
        "        right -= 1\n",
        "\n",
        "        for i in range(right, left - 1, -1):\n",
        "            matrix[bottom][i] = num\n",
        "            num += 1\n",
        "        bottom -= 1\n",
        "\n",
        "        for i in range(bottom, top - 1, -1):\n",
        "            matrix[i][left] = num\n",
        "            num += 1\n",
        "        left += 1\n",
        "\n",
        "    return matrix\n",
        "\n",
        "def print_matrix(matrix):\n",
        "    for row in matrix:\n",
        "        print(' '.join(map(str, row)))\n",
        "\n",
        "for n in [2, 3, 4]:\n",
        "    print(f\"N = {n}:\")\n",
        "    matrix = generate_spiral_matrix(n)\n",
        "    print_matrix(matrix)\n",
        "    print()"
      ],
      "metadata": {
        "colab": {
          "base_uri": "https://localhost:8080/"
        },
        "id": "8zr8ANqh2qT7",
        "outputId": "5e5ae6c3-8e43-4f38-a931-c498453ef9e2"
      },
      "execution_count": null,
      "outputs": [
        {
          "output_type": "stream",
          "name": "stdout",
          "text": [
            "N = 2:\n",
            "1 2\n",
            "4 3\n",
            "\n",
            "N = 3:\n",
            "1 2 3\n",
            "8 9 4\n",
            "7 6 5\n",
            "\n",
            "N = 4:\n",
            "1 2 3 4\n",
            "12 13 14 5\n",
            "11 16 15 6\n",
            "10 9 8 7\n",
            "\n"
          ]
        }
      ]
    },
    {
      "cell_type": "code",
      "source": [
        "#No.12 Write a python script that displays the following table\n",
        "def generate_table():\n",
        "\n",
        "    for i in range(1, 6):\n",
        "        number = i\n",
        "        print(f\"{number} 1 {number} {number ** 2} {number ** 3}\")\n",
        "generate_table()"
      ],
      "metadata": {
        "colab": {
          "base_uri": "https://localhost:8080/"
        },
        "id": "aVSPPNMF4Wtl",
        "outputId": "57e3628e-7d6b-4e7b-a31e-3c64d92e05cd"
      },
      "execution_count": null,
      "outputs": [
        {
          "output_type": "stream",
          "name": "stdout",
          "text": [
            "1 1 1 1 1\n",
            "2 1 2 4 8\n",
            "3 1 3 9 27\n",
            "4 1 4 16 64\n",
            "5 1 5 25 125\n"
          ]
        }
      ]
    },
    {
      "cell_type": "code",
      "source": [
        "#No.11 compute the value of Euler’s number that is used as the base of natural logarithms\n",
        "#Use the following formula e= 1+ 1/1! +1 /2! + 1/3+................ 1/n!\n",
        "n=int(input(\"Enter range: \"))\n",
        "f=1\n",
        "sum=1\n",
        "for i in range(1,n+1):\n",
        "  f=f*i\n",
        "  sum=sum+(1/f)\n",
        "print(sum)"
      ],
      "metadata": {
        "colab": {
          "base_uri": "https://localhost:8080/"
        },
        "id": "loHKiSmmmipq",
        "outputId": "ac7bc308-073a-47b1-8799-67b110164ec7"
      },
      "execution_count": null,
      "outputs": [
        {
          "output_type": "stream",
          "name": "stdout",
          "text": [
            "Enter range: 4\n",
            "2.708333333333333\n"
          ]
        }
      ]
    },
    {
      "cell_type": "code",
      "source": [
        "#No.12 generate all combination of 1, 2, or 3 using loop\n",
        "def combination(n):\n",
        "  for i in range(3):\n",
        "    for j in range(3):\n",
        "      for k in range(3):\n",
        "        if(i!=j and j!=k and k!=i):\n",
        "          print(n[i],n[j],n[k])\n",
        "combination([1,2,3])"
      ],
      "metadata": {
        "colab": {
          "base_uri": "https://localhost:8080/"
        },
        "id": "niXBAO_Cochv",
        "outputId": "9512cd2f-3ecb-4cb5-96d6-adcf36ee31fc"
      },
      "execution_count": null,
      "outputs": [
        {
          "output_type": "stream",
          "name": "stdout",
          "text": [
            "1 2 3\n",
            "1 3 2\n",
            "2 1 3\n",
            "2 3 1\n",
            "3 1 2\n",
            "3 2 1\n"
          ]
        }
      ]
    },
    {
      "cell_type": "code",
      "source": [
        "#No.13 Write a program to read two integer values m and n and to decide and print whether m is multiple of n.\n",
        "def multiple_checker(m,n):\n",
        "  if(m%n==0):\n",
        "    print(f\"{m} is a multiple of {n}\")\n",
        "  else:\n",
        "    print(f\"{m} is not a multiple of {n}\")\n",
        "n=int(input(\"Enter n: \"))\n",
        "m= int(input(\"Enter m: \"))\n",
        "multiple_checker(m,n)"
      ],
      "metadata": {
        "colab": {
          "base_uri": "https://localhost:8080/"
        },
        "id": "0vit9a6-qoGP",
        "outputId": "c0d2e0cb-13fa-4ee1-bb06-5a07f7146301"
      },
      "execution_count": null,
      "outputs": [
        {
          "output_type": "stream",
          "name": "stdout",
          "text": [
            "Enter n: 25\n",
            "Enter m: 50\n",
            "50 is a multiple of 25\n"
          ]
        }
      ]
    },
    {
      "cell_type": "code",
      "source": [
        "#No.14 print the pattern\n",
        "#1\n",
        "#234\n",
        "#56789\n",
        "n=3\n",
        "temp=1\n",
        "stop=2\n",
        "for i in range(n):\n",
        "  for j in range(1,stop):\n",
        "    print(temp,end=\"\")\n",
        "    temp+=1\n",
        "  print()\n",
        "  stop+=2"
      ],
      "metadata": {
        "colab": {
          "base_uri": "https://localhost:8080/"
        },
        "id": "YiASZ4RnvdSP",
        "outputId": "dcc8324c-a3e6-4bbe-f267-54a2702aa660"
      },
      "execution_count": null,
      "outputs": [
        {
          "output_type": "stream",
          "name": "stdout",
          "text": [
            "1\n",
            "234\n",
            "56789\n"
          ]
        }
      ]
    },
    {
      "cell_type": "code",
      "source": [
        "#No.15 print the pattern\n",
        "#   1\n",
        "#  212\n",
        "# 32123\n",
        "#4321234\n",
        "def print_pattern(n):\n",
        "    for i in range(1, n + 1):\n",
        "        print(' ' * (n - i), end='')\n",
        "\n",
        "        for j in range(i, 0, -1):\n",
        "            print(j, end='')\n",
        "\n",
        "        for j in range(2, i + 1):\n",
        "            print(j, end='')\n",
        "\n",
        "        print()\n",
        "print_pattern(4)\n"
      ],
      "metadata": {
        "colab": {
          "base_uri": "https://localhost:8080/"
        },
        "id": "64GH8jW_y4MA",
        "outputId": "e00c998b-36c4-4201-8998-818160e0eae1"
      },
      "execution_count": null,
      "outputs": [
        {
          "output_type": "stream",
          "name": "stdout",
          "text": [
            "   1\n",
            "  212\n",
            " 32123\n",
            "4321234\n"
          ]
        }
      ]
    },
    {
      "cell_type": "code",
      "source": [
        "#No.16 print the pattern\n",
        "#1     1\n",
        "# 2   2\n",
        "#  3 3\n",
        "#   4\n",
        "def print_pattern():\n",
        "    n = 4\n",
        "    for i in range(1, n + 1):\n",
        "        leading_spaces = ' ' * (i - 1)\n",
        "\n",
        "        if i == n:\n",
        "            row_content = f\"{i}\"\n",
        "        else:\n",
        "            row_content = f\"{i}{' ' * (2 * (n - i) - 1)}{i}\"\n",
        "\n",
        "        print(leading_spaces + row_content)\n",
        "print_pattern()\n"
      ],
      "metadata": {
        "colab": {
          "base_uri": "https://localhost:8080/"
        },
        "id": "Lscui2MA2Byh",
        "outputId": "52d3a7f5-6b3e-41c6-fbe0-e83b479460c4"
      },
      "execution_count": null,
      "outputs": [
        {
          "output_type": "stream",
          "name": "stdout",
          "text": [
            "1     1\n",
            " 2   2\n",
            "  3 3\n",
            "   4\n"
          ]
        }
      ]
    },
    {
      "cell_type": "code",
      "source": [
        "#No.17 implement stack using array\n",
        "# Python program for implementation of stack\n",
        "\n",
        "# import maxsize from sys module\n",
        "# Used to return -infinite when stack is empty\n",
        "from sys import maxsize\n",
        "\n",
        "# Function to create a stack. It initializes size of stack as 0\n",
        "def createStack():\n",
        "    stack = []\n",
        "    return stack\n",
        "\n",
        "def isEmpty(stack):\n",
        "    return len(stack) == 0\n",
        "\n",
        "def push(stack, item):\n",
        "    stack.append(item)\n",
        "    print(item + \" pushed to stack \")\n",
        "\n",
        "def pop(stack):\n",
        "    if (isEmpty(stack)):\n",
        "        return str(-maxsize -1)\n",
        "\n",
        "    return stack.pop()\n",
        "\n",
        "def peek(stack):\n",
        "    if (isEmpty(stack)):\n",
        "        return str(-maxsize -1)\n",
        "    return stack[len(stack) - 1]\n",
        "\n",
        "stack = createStack()\n",
        "push(stack, str(10))\n",
        "push(stack, str(20))\n",
        "push(stack, str(30))\n",
        "print(pop(stack) + \" popped from stack\")\n"
      ],
      "metadata": {
        "colab": {
          "base_uri": "https://localhost:8080/"
        },
        "id": "ohyO4hZr22rQ",
        "outputId": "8938dd0c-f4a6-4666-e12f-58a19d14c8c7"
      },
      "execution_count": null,
      "outputs": [
        {
          "output_type": "stream",
          "name": "stdout",
          "text": [
            "10 pushed to stack \n",
            "20 pushed to stack \n",
            "30 pushed to stack \n",
            "30 popped from stack\n"
          ]
        }
      ]
    },
    {
      "cell_type": "code",
      "source": [
        "#No.18 implement queue using array\n",
        "class Queue:\n",
        "    def __init__(self, capacity):\n",
        "        self.front = 0\n",
        "        self.rear = -1\n",
        "        self.capacity = capacity\n",
        "        self.queue = [None] * capacity\n",
        "\n",
        "    def enqueue(self, data):\n",
        "        if self.rear == self.capacity - 1:\n",
        "            print(\"Queue is full\")\n",
        "            return\n",
        "\n",
        "        self.rear += 1\n",
        "        self.queue[self.rear] = data\n",
        "\n",
        "    def dequeue(self):\n",
        "        if self.front > self.rear:\n",
        "            print(\"Queue is empty\")\n",
        "            return\n",
        "\n",
        "        for i in range(self.rear):\n",
        "            self.queue[i] = self.queue[i + 1]\n",
        "\n",
        "        self.rear -= 1\n",
        "\n",
        "    def display(self):\n",
        "        if self.front > self.rear:\n",
        "            print(\"Queue is Empty\")\n",
        "            return\n",
        "\n",
        "        for i in range(self.front, self.rear + 1):\n",
        "            print(self.queue[i], end=\" <-- \")\n",
        "        print()\n",
        "\n",
        "    def front_element(self):\n",
        "        if self.rear == -1:\n",
        "            print(\"Queue is Empty\")\n",
        "            return\n",
        "        print(\"Front Element is:\", self.queue[self.front])\n",
        "\n",
        "if __name__ == \"__main__\":\n",
        "    q = Queue(4)\n",
        "    q.display()\n",
        "\n",
        "    q.enqueue(20)\n",
        "    q.enqueue(30)\n",
        "    q.enqueue(40)\n",
        "    q.enqueue(50)\n",
        "\n",
        "    q.display()\n",
        "    q.enqueue(60)\n",
        "    q.display()\n",
        "    q.dequeue()\n",
        "    q.dequeue()\n",
        "\n",
        "    print(\"After two node deletions\")\n",
        "\n",
        "    q.display()\n",
        "\n",
        "    print(\"After one insertion\")\n",
        "    q.enqueue(60)\n",
        "\n",
        "    q.display()\n",
        "\n",
        "    q.front_element()\n"
      ],
      "metadata": {
        "colab": {
          "base_uri": "https://localhost:8080/"
        },
        "id": "OkK47HyE5963",
        "outputId": "adb34433-a5fb-4b7b-a1b4-562c75209574"
      },
      "execution_count": null,
      "outputs": [
        {
          "output_type": "stream",
          "name": "stdout",
          "text": [
            "Queue is Empty\n",
            "20 <-- 30 <-- 40 <-- 50 <-- \n",
            "Queue is full\n",
            "20 <-- 30 <-- 40 <-- 50 <-- \n",
            "After two node deletions\n",
            "40 <-- 50 <-- \n",
            "After one insertion\n",
            "40 <-- 50 <-- 60 <-- \n",
            "Front Element is: 40\n"
          ]
        }
      ]
    },
    {
      "cell_type": "code",
      "source": [
        "#No.19 calculate Sum of two 2-dimensional arrays\n",
        "def input_matrix(rows, cols):\n",
        "    matrix = []\n",
        "    print(f\"Enter the elements for a {rows}x{cols} matrix:\")\n",
        "    for i in range(rows):\n",
        "        row = list(map(int, input(f\"Enter row {i+1}: \").split()))\n",
        "        if len(row) != cols:\n",
        "            raise ValueError(\"The number of columns entered does not match the specified number of columns.\")\n",
        "        matrix.append(row)\n",
        "    return matrix\n",
        "\n",
        "def add_matrices(matrix1, matrix2):\n",
        "    rows = len(matrix1)\n",
        "    cols = len(matrix1[0])\n",
        "    result = []\n",
        "    for i in range(rows):\n",
        "        row = []\n",
        "        for j in range(cols):\n",
        "            row.append(matrix1[i][j] + matrix2[i][j])\n",
        "        result.append(row)\n",
        "    return result\n",
        "\n",
        "def main():\n",
        "    rows = int(input(\"Enter the number of rows: \"))\n",
        "    cols = int(input(\"Enter the number of columns: \"))\n",
        "\n",
        "    print(\"Matrix 1:\")\n",
        "    matrix1 = input_matrix(rows, cols)\n",
        "\n",
        "    print(\"Matrix 2:\")\n",
        "    matrix2 = input_matrix(rows, cols)\n",
        "\n",
        "    sum_matrix = add_matrices(matrix1, matrix2)\n",
        "\n",
        "    print(\"Sum of the two matrices:\")\n",
        "    for row in sum_matrix:\n",
        "        print(' '.join(map(str, row)))\n",
        "\n",
        "if __name__ == \"__main__\":\n",
        "    main()"
      ],
      "metadata": {
        "colab": {
          "base_uri": "https://localhost:8080/"
        },
        "id": "PBXYYUeV7ILB",
        "outputId": "6dd00a60-15e9-448f-c8df-39413a57bcd7"
      },
      "execution_count": null,
      "outputs": [
        {
          "output_type": "stream",
          "name": "stdout",
          "text": [
            "Enter the number of rows: 3\n",
            "Enter the number of columns: 3\n",
            "Matrix 1:\n",
            "Enter the elements for a 3x3 matrix:\n",
            "Enter row 1: 1 3 5\n",
            "Enter row 2: 4 7 2\n",
            "Enter row 3: 8 2 7\n",
            "Matrix 2:\n",
            "Enter the elements for a 3x3 matrix:\n",
            "Enter row 1: 2 7 3 \n",
            "Enter row 2: 6 9 3 \n",
            "Enter row 3: 9 8 1\n",
            "Sum of the two matrices:\n",
            "3 10 8\n",
            "10 16 5\n",
            "17 10 8\n"
          ]
        }
      ]
    },
    {
      "cell_type": "code",
      "source": [
        "#No.20 find the range of a 1D array\n",
        "def find_range(arr):\n",
        "    if len(arr) == 0:\n",
        "        return 0\n",
        "    return max(arr) - min(arr)\n",
        "def main():\n",
        "    array = list(map(int, input(\"Enter the integers separated by spaces: \").split()))\n",
        "    range_value = find_range(array)\n",
        "    print(f\"The range of the array is: {range_value}\")\n",
        "if __name__ == \"__main__\":\n",
        "    main()"
      ],
      "metadata": {
        "colab": {
          "base_uri": "https://localhost:8080/"
        },
        "id": "dROHHAvO8vxR",
        "outputId": "68fa57f5-797a-4fa4-f711-90297a079430"
      },
      "execution_count": null,
      "outputs": [
        {
          "output_type": "stream",
          "name": "stdout",
          "text": [
            "Enter the integers separated by spaces: 10 20 45 50 26\n",
            "The range of the array is: 40\n"
          ]
        }
      ]
    }
  ]
}