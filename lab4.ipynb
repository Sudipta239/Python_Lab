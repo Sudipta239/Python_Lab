{
  "nbformat": 4,
  "nbformat_minor": 0,
  "metadata": {
    "colab": {
      "provenance": []
    },
    "kernelspec": {
      "name": "python3",
      "display_name": "Python 3"
    },
    "language_info": {
      "name": "python"
    }
  },
  "cells": [
    {
      "cell_type": "code",
      "execution_count": null,
      "metadata": {
        "colab": {
          "base_uri": "https://localhost:8080/"
        },
        "id": "ptb_GXMEG3gX",
        "outputId": "5dfb9ac8-238c-401e-960e-d49c7379d9d1"
      },
      "outputs": [
        {
          "output_type": "stream",
          "name": "stdout",
          "text": [
            "Enter a String: India is my motherland. I love my country. Capital of India is New Delhi.\n",
            "Enter a Substring: India\n",
            "Substring occurs 2 times...\n"
          ]
        }
      ],
      "source": [
        "#No.1 Write a program to enter a string. Calculate the length of the string. Find the substring country.\n",
        "#Count the occurences of each word in the given sentence.\n",
        "#If the String as input is India is my motherland. I love my country. Capital of India is New Delhi.\n",
        "string=input(\"Enter a String: \")\n",
        "substring=input(\"Enter a Substring: \")\n",
        "count=string.count(substring)\n",
        "print(f\"Substring occurs {count} times...\")"
      ]
    },
    {
      "cell_type": "code",
      "source": [
        "#No.2 Write a program that accepts a comma separated sequence of words as input and prints the words\n",
        "#in a comma-separated sequence after sorting them alphabetically.\n",
        "#Suppose the following input is supplied to the program:\n",
        "#without,hello,bag,world\n",
        "#Then, the output should be:\n",
        "#bag,hello,without,world\n",
        "phrase = input(\"Input words: \")\n",
        "phrase_list = phrase.split(\",\")\n",
        "phrase_list.sort()\n",
        "print((', ').join(phrase_list))"
      ],
      "metadata": {
        "colab": {
          "base_uri": "https://localhost:8080/"
        },
        "id": "Row1O9hSK9Wy",
        "outputId": "85d006b6-8a60-4dcc-95a9-1230b803aa45"
      },
      "execution_count": null,
      "outputs": [
        {
          "output_type": "stream",
          "name": "stdout",
          "text": [
            "Input words: without,hello,bag,world\n",
            "bag, hello, without, world\n"
          ]
        }
      ]
    },
    {
      "cell_type": "code",
      "source": [
        "#No.3 Write a program that accepts sequence of lines as input and prints the lines after making all\n",
        "#characters in the sentence capitalized.\n",
        "#Suppose the following input is supplied to the program:\n",
        "#Hello world\n",
        "#Practice makes perfect\n",
        "#Then, the output should be:\n",
        "#HELLO WORLD\n",
        "#PRACTICE MAKES PERFECT\n",
        "lines = []\n",
        "while True:\n",
        "    l = input()\n",
        "    if l:\n",
        "        lines.append(l.upper())\n",
        "    else:\n",
        "        break\n",
        "for l in lines:\n",
        "    print(l)\n"
      ],
      "metadata": {
        "colab": {
          "base_uri": "https://localhost:8080/"
        },
        "id": "9fg-CL5gNAXa",
        "outputId": "6c7f8440-d8ee-43ba-e5c2-07856bc3e9c7"
      },
      "execution_count": null,
      "outputs": [
        {
          "output_type": "stream",
          "name": "stdout",
          "text": [
            "hello world\n",
            "practice makes perfect\n",
            "\n",
            "HELLO WORLD\n",
            "PRACTICE MAKES PERFECT\n"
          ]
        }
      ]
    },
    {
      "cell_type": "code",
      "source": [
        "#No.4 Write a program that accepts a sequence of whitespace separated words as input and prints the\n",
        "#words after removing all duplicate words and sorting them alphanumerically.\n",
        "#Suppose the following input is supplied to the program:\n",
        "#hello world and practice makes perfect and hello world again\n",
        "#Then, the output should be:\n",
        "#again and hello makes perfect practice world\n",
        "phrase = input(\"Enter Words: \")\n",
        "phrase_splited = phrase.split(' ')\n",
        "\n",
        "word_list = []\n",
        "for i in phrase_splited:\n",
        "    if i not in word_list:\n",
        "        word_list.append(i)\n",
        "    else:\n",
        "        continue\n",
        "word_list.sort()\n",
        "print((' ').join(word_list))"
      ],
      "metadata": {
        "colab": {
          "base_uri": "https://localhost:8080/"
        },
        "id": "tn0eroXMOWUH",
        "outputId": "ec08fc66-38e8-4438-c1a3-2137cdcef0ee"
      },
      "execution_count": null,
      "outputs": [
        {
          "output_type": "stream",
          "name": "stdout",
          "text": [
            "Enter Words: hello world and practice makes perfect and hello world again\n",
            "again and hello makes perfect practice world\n"
          ]
        }
      ]
    },
    {
      "cell_type": "code",
      "source": [
        "#No.5 Write a program that accepts a sentence and calculate the number of letters and digits.\n",
        "#Suppose the following input is supplied to the program:\n",
        "#hello world! 123\n",
        "#Then, the output should be:\n",
        "#LETTERS 10\n",
        "#DIGITS 3\n",
        "phrase = input(\"Enter Phrase: \")\n",
        "phrase = list(phrase)\n",
        "l, d = 0, 0\n",
        "for i in phrase:\n",
        "    if i.isalpha():\n",
        "        l = l + 1\n",
        "    if i.isdigit():\n",
        "        d = d + 1\n",
        "    else:\n",
        "        pass\n",
        "print(\"Letters:\", l)\n",
        "print(\"Digits:\", d)"
      ],
      "metadata": {
        "colab": {
          "base_uri": "https://localhost:8080/"
        },
        "id": "jHXj0tc3PhHg",
        "outputId": "0b950c4d-0058-4bf6-e2f6-55d80e2322a2"
      },
      "execution_count": null,
      "outputs": [
        {
          "output_type": "stream",
          "name": "stdout",
          "text": [
            "Enter Phrase: hello world! 123\n",
            "Letters: 10\n",
            "Digits: 3\n"
          ]
        }
      ]
    },
    {
      "cell_type": "code",
      "source": [
        "#No.6 Write a program which accepts a string as input to print &quot;Yes&quot; if the string is &quot;yes&quot; or &quot;YES&quot; or\n",
        "#&quot;Yes&quot;, otherwise print &quot;No&quot;\n",
        "string = input(\"Enter the string: \")\n",
        "if((string==\"yes\") or (string ==\"YES\") or (string == \"Yes\")):\n",
        "    print(\"Yes\")\n",
        "else:\n",
        "    print(\"No\")"
      ],
      "metadata": {
        "colab": {
          "base_uri": "https://localhost:8080/"
        },
        "id": "Jax2pWojQYU5",
        "outputId": "dcbff821-bb92-4c55-888f-18992f3560bb"
      },
      "execution_count": null,
      "outputs": [
        {
          "output_type": "stream",
          "name": "stdout",
          "text": [
            "Enter the string: yes\n",
            "Yes\n"
          ]
        }
      ]
    },
    {
      "cell_type": "code",
      "source": [
        "#No.7 Write a program which accepts a sequence of words separated by whitespace as input to print the\n",
        "#words composed of digits only.\n",
        "#Example: If the following words is given as input to the program:\n",
        "#2 cats and 3 dogs.\n",
        "#Then, the output of the program should be:\n",
        "#['2','3']\n",
        "program = input().split()\n",
        "ans = []\n",
        "for word in program:\n",
        "    if word.isdigit():\n",
        "       ans.append(word)\n",
        "print(ans)"
      ],
      "metadata": {
        "colab": {
          "base_uri": "https://localhost:8080/"
        },
        "id": "erVjZJDsRp75",
        "outputId": "d5b0c93c-bca4-45a3-9527-98adf5a55b47"
      },
      "execution_count": null,
      "outputs": [
        {
          "output_type": "stream",
          "name": "stdout",
          "text": [
            "2 cats and 3 dogs\n",
            "['2', '3']\n"
          ]
        }
      ]
    },
    {
      "cell_type": "code",
      "source": [
        "#No.8 Please write a program which count and print the numbers of each character in a string input by console.\n",
        "s = input()\n",
        "for letter in range(ord('a'),ord('z')+1):\n",
        "    letter = chr(letter)\n",
        "    count = s.count(letter)\n",
        "    if count > 0:\n",
        "        print(\"{},{}\".format(letter,count))"
      ],
      "metadata": {
        "colab": {
          "base_uri": "https://localhost:8080/"
        },
        "id": "UE7we092Tx_J",
        "outputId": "b2e8c777-0239-4f9d-d8fd-8b69af35a7e7"
      },
      "execution_count": null,
      "outputs": [
        {
          "output_type": "stream",
          "name": "stdout",
          "text": [
            "abcdefgabc\n",
            "a,2\n",
            "b,2\n",
            "c,2\n",
            "d,1\n",
            "e,1\n",
            "f,1\n",
            "g,1\n"
          ]
        }
      ]
    },
    {
      "cell_type": "code",
      "source": [
        "#No.9 Write a program that accepts a string I. 1.reverses it. II. 2.checks whether it is a palindrome.\n",
        "#III. 3.checks whether it ends with a specific substring. IV. 4.capitalize the first letter of each word in a string\n",
        "#V. 5.check if a string is anagram of another string VI. 6.remove vowels from string\n",
        "#VII. 7.find length of the longest word in a sentence\n",
        "def reverse_string(s):\n",
        "    return s[::-1]\n",
        "\n",
        "def is_palindrome(s):\n",
        "    return s == s[::-1]\n",
        "\n",
        "def ends_with_substring(s, substring):\n",
        "    return s.endswith(substring)\n",
        "\n",
        "def capitalize_words(s):\n",
        "    return s.title()\n",
        "\n",
        "def is_anagram(s1, s2):\n",
        "    return sorted(s1) == sorted(s2)\n",
        "\n",
        "def remove_vowels(s):\n",
        "    vowels = \"aeiouAEIOU\"\n",
        "    return ''.join([char for char in s if char not in vowels])\n",
        "\n",
        "def length_of_longest_word(sentence):\n",
        "    words = sentence.split()\n",
        "    return len(max(words, key=len))\n",
        "\n",
        "# Example usage\n",
        "input_string = \"Able was I saw Elba\"\n",
        "substring = \"Elba\"\n",
        "another_string = \"Elba was I saw Able\"\n",
        "\n",
        "print(\"Original string:\", input_string)\n",
        "\n",
        "# 1. Reverse the string\n",
        "reversed_string = reverse_string(input_string)\n",
        "print(\"Reversed string:\", reversed_string)\n",
        "\n",
        "# 2. Check if it is a palindrome\n",
        "print(\"Is palindrome?\", is_palindrome(input_string))\n",
        "\n",
        "# 3. Check if it ends with a specific substring\n",
        "print(f\"Does it end with '{substring}'?\", ends_with_substring(input_string, substring))\n",
        "\n",
        "# 4. Capitalize the first letter of each word\n",
        "print(\"Capitalized:\", capitalize_words(input_string))\n",
        "\n",
        "# 5. Check if a string is an anagram of another string\n",
        "print(f\"Is '{input_string}' an anagram of '{another_string}'?\", is_anagram(input_string.replace(\" \", \"\").lower(), another_string.replace(\" \", \"\").lower()))\n",
        "\n",
        "# 6. Remove vowels from the string\n",
        "print(\"String without vowels:\", remove_vowels(input_string))\n",
        "\n",
        "# 7. Find the length of the longest word in a sentence\n",
        "sentence = \"This is an example sentence\"\n",
        "print(\"Length of the longest word:\", length_of_longest_word(sentence))"
      ],
      "metadata": {
        "colab": {
          "base_uri": "https://localhost:8080/"
        },
        "id": "f7Cf2uM35t3d",
        "outputId": "5cfe2452-a839-4816-cedf-094228c991d2"
      },
      "execution_count": null,
      "outputs": [
        {
          "output_type": "stream",
          "name": "stdout",
          "text": [
            "Original string: Able was I saw Elba\n",
            "Reversed string: ablE was I saw elbA\n",
            "Is palindrome? False\n",
            "Does it end with 'Elba'? True\n",
            "Capitalized: Able Was I Saw Elba\n",
            "Is 'Able was I saw Elba' an anagram of 'Elba was I saw Able'? True\n",
            "String without vowels: bl ws  sw lb\n",
            "Length of the longest word: 8\n"
          ]
        }
      ]
    },
    {
      "cell_type": "code",
      "source": [
        "#No.10 Python program to search an element in an array\n",
        "def main():\n",
        "    n = int(input(\"Enter the number of elements in the array: \"))\n",
        "    array = []\n",
        "\n",
        "    print(\"Enter the elements of the array:\")\n",
        "    for i in range(n):\n",
        "        element = int(input())\n",
        "        array.append(element)\n",
        "\n",
        "    search_element = int(input(\"Enter the element to search for: \"))\n",
        "\n",
        "    if search_element in array:\n",
        "        index = array.index(search_element)\n",
        "        print(f\"Element {search_element} found at index {index}\")\n",
        "    else:\n",
        "        print(f\"Element {search_element} not found in the array.\")\n",
        "\n",
        "if __name__ == \"__main__\":\n",
        "    main()\n"
      ],
      "metadata": {
        "colab": {
          "base_uri": "https://localhost:8080/"
        },
        "id": "xE7iDudJ6cQ-",
        "outputId": "ea23fd72-2811-4c17-e50f-2bdb17395911"
      },
      "execution_count": null,
      "outputs": [
        {
          "output_type": "stream",
          "name": "stdout",
          "text": [
            "Enter the number of elements in the array: 5\n",
            "Enter the elements of the array:\n",
            "7\n",
            "89\n",
            "45\n",
            "2\n",
            "10\n",
            "Enter the element to search for: 45\n",
            "Element 45 found at index 2\n"
          ]
        }
      ]
    },
    {
      "cell_type": "code",
      "source": [
        "#No.11 Write a program to find the sum of even numbers in an integer array\n",
        "def sum_of_even_numbers(array):\n",
        "    even_sum = 0\n",
        "\n",
        "    for num in array:\n",
        "        if num % 2 == 0:\n",
        "            even_sum += num\n",
        "    return even_sum\n",
        "def main():\n",
        "    n = int(input(\"Enter the number of elements in the array: \"))\n",
        "    array = []\n",
        "    print(\"Enter the elements of the array:\")\n",
        "    for i in range(n):\n",
        "        element = int(input())\n",
        "        array.append(element)\n",
        "\n",
        "    even_sum = sum_of_even_numbers(array)\n",
        "    print(\"The sum of even numbers in the array is:\", even_sum)\n",
        "\n",
        "if __name__ == \"__main__\":\n",
        "    main()"
      ],
      "metadata": {
        "colab": {
          "base_uri": "https://localhost:8080/"
        },
        "id": "YOqFoGno7KA1",
        "outputId": "8dcf2bbe-1355-4393-f4e0-0e5853fc0848"
      },
      "execution_count": null,
      "outputs": [
        {
          "output_type": "stream",
          "name": "stdout",
          "text": [
            "Enter the number of elements in the array: 5\n",
            "Enter the elements of the array:\n",
            "2\n",
            "4\n",
            "3\n",
            "5\n",
            "4\n",
            "The sum of even numbers in the array is: 10\n"
          ]
        }
      ]
    },
    {
      "cell_type": "code",
      "source": [
        "#No.12 Write a program to find the sum of diagonal elements in a 2D array\n",
        "def sum_of_diagonals(matrix, n):\n",
        "    diagonal_sum = 0\n",
        "    for i in range(n):\n",
        "        diagonal_sum += matrix[i][i]\n",
        "    return diagonal_sum\n",
        "\n",
        "def main():\n",
        "    n = int(input(\"Enter the size of the square matrix (n x n): \"))\n",
        "    matrix = []\n",
        "    print(\"Enter the elements of the matrix row by row:\")\n",
        "    for i in range(n):\n",
        "        row = list(map(int, input().split()))\n",
        "        matrix.append(row)\n",
        "\n",
        "    diagonal_sum = sum_of_diagonals(matrix, n)\n",
        "    print(\"The sum of diagonal elements in the matrix is:\", diagonal_sum)\n",
        "\n",
        "if __name__ == \"__main__\":\n",
        "    main()"
      ],
      "metadata": {
        "colab": {
          "base_uri": "https://localhost:8080/"
        },
        "id": "1MAFfVH37pPf",
        "outputId": "0a03e983-6b61-46f6-c82d-002e4da8ff11"
      },
      "execution_count": null,
      "outputs": [
        {
          "output_type": "stream",
          "name": "stdout",
          "text": [
            "Enter the size of the square matrix (n x n): 3\n",
            "Enter the elements of the matrix row by row:\n",
            "1 2 3\n",
            "4 5 6\n",
            "7 8 9\n",
            "The sum of diagonal elements in the matrix is: 15\n"
          ]
        }
      ]
    },
    {
      "cell_type": "code",
      "source": [
        "#No.13 Reverse the elements in an array of integers without using a second array\n",
        "def reverse_array(arr):\n",
        "    left, right = 0, len(arr) - 1\n",
        "    while left < right:\n",
        "        arr[left], arr[right] = arr[right], arr[left]\n",
        "        left += 1\n",
        "        right -= 1\n",
        "\n",
        "def main():\n",
        "    arr = list(map(int, input(\"Enter integers for the array separated by spaces: \").split()))\n",
        "    reverse_array(arr)\n",
        "    print(f\"Reversed array: {' '.join(map(str, arr))}\")\n",
        "\n",
        "if __name__ == \"__main__\":\n",
        "    main()"
      ],
      "metadata": {
        "colab": {
          "base_uri": "https://localhost:8080/"
        },
        "id": "aDyMF_aT9Fy1",
        "outputId": "74e1ff4f-6ccf-4e8c-e3a4-cbdb826637ef"
      },
      "execution_count": null,
      "outputs": [
        {
          "output_type": "stream",
          "name": "stdout",
          "text": [
            "Enter integers for the array separated by spaces: 2 5 8 1 5\n",
            "Reversed array: 5 1 8 5 2\n"
          ]
        }
      ]
    },
    {
      "cell_type": "code",
      "source": [
        "#No.14 Write a program to enter n elements in an array and find smallest number among them.\n",
        "def find_smallest_number(arr):\n",
        "    if not arr:\n",
        "        return None\n",
        "    smallest = arr[0]\n",
        "    for num in arr:\n",
        "        if num < smallest:\n",
        "            smallest = num\n",
        "    return smallest\n",
        "\n",
        "arr = list(map(int, input(\"Enter integers for the array separated by spaces: \").split()))\n",
        "smallest_number = find_smallest_number(arr)\n",
        "if smallest_number is not None:\n",
        "    print(f\"Smallest number in the array: {smallest_number}\")"
      ],
      "metadata": {
        "colab": {
          "base_uri": "https://localhost:8080/"
        },
        "id": "1pKQUwED9Xie",
        "outputId": "57f338ea-c4a9-4f5c-c7a3-2490f737d52e"
      },
      "execution_count": null,
      "outputs": [
        {
          "output_type": "stream",
          "name": "stdout",
          "text": [
            "Enter integers for the array separated by spaces: 34 45 67 12 89\n",
            "Smallest number in the array: 12\n"
          ]
        }
      ]
    },
    {
      "cell_type": "code",
      "source": [
        "#No.15 Write a program to print transpose of matrix.\n",
        "def transpose_matrix(matrix):\n",
        "    return list(zip(*matrix))\n",
        "\n",
        "def main():\n",
        "    n = int(input(\"Enter the number of rows for the matrix: \"))\n",
        "    m = int(input(\"Enter the number of columns for the matrix: \"))\n",
        "    matrix = []\n",
        "    print(\"Enter the matrix row by row:\")\n",
        "    for _ in range(n):\n",
        "        row = list(map(int, input().split()))\n",
        "        matrix.append(row)\n",
        "    transposed = transpose_matrix(matrix)\n",
        "    print(\"Transpose of the matrix:\")\n",
        "    for row in transposed:\n",
        "        print('\\t'.join(map(str, row)))\n",
        "\n",
        "if __name__ == \"__main__\":\n",
        "    main()"
      ],
      "metadata": {
        "colab": {
          "base_uri": "https://localhost:8080/"
        },
        "id": "bW1OCFSJ9tFQ",
        "outputId": "d6363892-9cf7-4607-97bf-3ffd529607b2"
      },
      "execution_count": null,
      "outputs": [
        {
          "name": "stdout",
          "output_type": "stream",
          "text": [
            "Enter the number of rows for the matrix: 3\n",
            "Enter the number of columns for the matrix: 3\n",
            "Enter the matrix row by row:\n",
            "1 3 5\n"
          ]
        }
      ]
    }
  ]
}