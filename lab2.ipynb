{
  "nbformat": 4,
  "nbformat_minor": 0,
  "metadata": {
    "colab": {
      "provenance": []
    },
    "kernelspec": {
      "name": "python3",
      "display_name": "Python 3"
    },
    "language_info": {
      "name": "python"
    }
  },
  "cells": [
    {
      "cell_type": "code",
      "execution_count": null,
      "metadata": {
        "id": "f5UCZ-VfWkRp",
        "colab": {
          "base_uri": "https://localhost:8080/"
        },
        "outputId": "eb7ae2aa-1801-4bdb-8957-4016e45fe991"
      },
      "outputs": [
        {
          "output_type": "stream",
          "name": "stdout",
          "text": [
            "Enter 1st number: 9\n",
            "Enter 2nd number: 16\n",
            "Enter 3rd number: 25\n",
            "The sum is:  12.0\n"
          ]
        }
      ],
      "source": [
        "#No.1 sum of squareroot of any three numbers\n",
        "import math\n",
        "a = int(input(\"Enter 1st number: \"))\n",
        "b = int(input(\"Enter 2nd number: \"))\n",
        "c = int(input(\"Enter 3rd number: \"))\n",
        "sum=0\n",
        "n1 = math.sqrt(a)\n",
        "n2 = math.sqrt(b)\n",
        "n3 = math.sqrt(c)\n",
        "sum = n1+n2+n3\n",
        "print(\"The sum is: \",sum)"
      ]
    },
    {
      "cell_type": "code",
      "source": [
        "#No.2 solve Quadratic equation\n",
        "import math\n",
        "a = int(input(\"Enter value for a: \"))\n",
        "b = int(input(\"Enter value for b: \"))\n",
        "c = int(input(\"Enter value for c: \"))\n",
        "discriminant = b**2 - 4*a*c\n",
        "if discriminant>0:\n",
        "  root1 = (-b + math.sqrt(discriminant))/(2*a)\n",
        "  root2 = (-b - math.sqrt(discriminant))/(2*a)\n",
        "  print(\"The roots are real and distinct.\")\n",
        "  print(\"Root1= \",root1)\n",
        "  print(\"Root2= \",root2)\n",
        "elif discriminant==0:\n",
        "  root = -b/(2*a)\n",
        "  print(\"The roots are real and equal.\")\n",
        "  print(\"Roots are: \",root)\n",
        "else:\n",
        "  real = -b/(2*a)\n",
        "  i =  math.sqrt(abs(discriminant))/(2*a)\n",
        "  print(\"The roots are complex.\")\n",
        "  print(f\"Root1= {real}+{i}i\")\n",
        "  print(f\"Root2= {real}-{i}i\")\n",
        "\n"
      ],
      "metadata": {
        "colab": {
          "base_uri": "https://localhost:8080/"
        },
        "id": "3v5YNf_BaGHa",
        "outputId": "2b2b5a2c-b628-4ff9-c1f8-a8a74252c813"
      },
      "execution_count": null,
      "outputs": [
        {
          "output_type": "stream",
          "name": "stdout",
          "text": [
            "Enter value for a: 5\n",
            "Enter value for b: 7\n",
            "Enter value for c: 3\n",
            "The roots are complex.\n",
            "Root1= -0.7+0.33166247903553997i\n",
            "Root2= -0.7-0.33166247903553997i\n"
          ]
        }
      ]
    },
    {
      "cell_type": "code",
      "source": [
        "#No.3 gcd of two numbers\n",
        "import math\n",
        "n1 = int(input(\"Enter 1st number: \"))\n",
        "n2  = int(input(\"Enter 2nd number: \"))\n",
        "gcd = math.gcd(n1,n2)\n",
        "print(f\"GCD of {n1} and {n2} is: {gcd}\")"
      ],
      "metadata": {
        "colab": {
          "base_uri": "https://localhost:8080/"
        },
        "id": "FaLHYlpNfpNI",
        "outputId": "8ea1fe63-7661-4900-ab40-bbd36241463f"
      },
      "execution_count": null,
      "outputs": [
        {
          "output_type": "stream",
          "name": "stdout",
          "text": [
            "Enter 1st number: 12\n",
            "Enter 2nd number: 48\n",
            "GCD of 12 and 48 is: 12\n"
          ]
        }
      ]
    },
    {
      "cell_type": "code",
      "source": [
        "#No.4 reverse a string\n",
        "def reverse_string(str):\n",
        "  str1=\"\"\n",
        "  for i in str:\n",
        "    str1 = i + str1\n",
        "  return str1\n",
        "str = input(\"Enter String: \")\n",
        "print(\"The original string is :\",str)\n",
        "print(\"The reverse string is :\",reverse_string(str))"
      ],
      "metadata": {
        "colab": {
          "base_uri": "https://localhost:8080/"
        },
        "id": "tQ-bq8iSi9ow",
        "outputId": "01fd8fff-8893-48ec-843f-00daa150b3a0"
      },
      "execution_count": null,
      "outputs": [
        {
          "output_type": "stream",
          "name": "stdout",
          "text": [
            "Enter String: hello\n",
            "The original string is : hello\n",
            "The reverse string is : olleh\n"
          ]
        }
      ]
    },
    {
      "cell_type": "code",
      "source": [
        "#No.5 a)5 to the power 8\n",
        "import math\n",
        "a = pow(5,8)\n",
        "print(f\"The value of 5 to the power 8 is {a}\")\n",
        "#b) squareroot of 400\n",
        "b = math.sqrt(400)\n",
        "print(f\"Square root of 400 is {b}\")\n",
        "#c) exponent of 5\n",
        "c = math.exp(5)\n",
        "print(f\"Exponent of 5 is {c}\")\n",
        "#d) logarithm of 625 base 5\n",
        "d = math.log(625,5)\n",
        "print(f\"Logarithm of 625 base 5 is {d}\")"
      ],
      "metadata": {
        "colab": {
          "base_uri": "https://localhost:8080/"
        },
        "id": "j43K7DU4kugQ",
        "outputId": "fecf2dbf-e5cc-47a0-f294-0c6c657c8e4b"
      },
      "execution_count": null,
      "outputs": [
        {
          "output_type": "stream",
          "name": "stdout",
          "text": [
            "The value of 5 to the power 8 is 390625\n",
            "Square root of 400 is 20.0\n",
            "Exponent of 5 is 148.4131591025766\n",
            "Logarithm of 625 base 5 is 4.0\n"
          ]
        }
      ]
    },
    {
      "cell_type": "code",
      "source": [
        "#No.6 a) sin of 60 degree\n",
        "import math\n",
        "a = math.pi/3\n",
        "sin = math.sin(a)\n",
        "print(f\"The value of sin 60 = {sin}\")\n",
        "#b) cos of pi\n",
        "b = math.pi\n",
        "cos = math.cos(b)\n",
        "print(f\"Value of cos pi = {cos}\")\n",
        "#c) value of sin(0.8660254037844386)\n",
        "c = math.sin(0.8660254037844386)\n",
        "print(\"value of sin(0.8660254037844386) = \",c)\n",
        "#d)tan of 90 degree\n",
        "d = math.pi/2\n",
        "tan = math.tan(d)\n",
        "print(f\"The value of tan 90 = {tan}\")"
      ],
      "metadata": {
        "colab": {
          "base_uri": "https://localhost:8080/"
        },
        "id": "94b230vIdhOi",
        "outputId": "9a5eb221-3e81-4922-fbae-79c563b5cb1d"
      },
      "execution_count": null,
      "outputs": [
        {
          "output_type": "stream",
          "name": "stdout",
          "text": [
            "The value of sin 60 = 0.8660254037844386\n",
            "Value of cos pi = -1.0\n",
            "value of sin(0.8660254037844386) =  0.7617599814162892\n",
            "The value of tan 90 = 1.633123935319537e+16\n"
          ]
        }
      ]
    },
    {
      "cell_type": "code",
      "source": [
        "#No.7 define a sum function with two parameters and call the function\n",
        "def sum(a,b):\n",
        "  return a+b\n",
        "n1 = int(input(\"Enter n1: \"))\n",
        "n2 = int(input(\"Enter n2: \"))\n",
        "print(f\"Sum of {n1} and {n2} is: {sum(n1,n2)}\")"
      ],
      "metadata": {
        "colab": {
          "base_uri": "https://localhost:8080/"
        },
        "id": "tIPmY7Tqj3LC",
        "outputId": "0e63cb2b-fe4b-49cb-f030-5bf1739be1c6"
      },
      "execution_count": null,
      "outputs": [
        {
          "output_type": "stream",
          "name": "stdout",
          "text": [
            "Enter n1: 4\n",
            "Enter n2: 7\n",
            "Sum of 4 and 7 is: 11\n"
          ]
        }
      ]
    },
    {
      "cell_type": "code",
      "source": [
        "#No.8 function to calculate the power of a number using recursion\n",
        "def power(base,exponent):\n",
        "  if exponent == 0:\n",
        "    return 1\n",
        "  elif exponent > 0:\n",
        "     return base*power(base,exponent-1)\n",
        "  else:\n",
        "     return 1/power(base,-exponent)\n",
        "base = int(input(\"Enter base: \"))\n",
        "exponent = int(input(\"Enter exponent: \"))\n",
        "print(f\"{base} to the power {exponent} = {power(base,exponent)}\")"
      ],
      "metadata": {
        "colab": {
          "base_uri": "https://localhost:8080/"
        },
        "id": "_k0Tj-TtrMJr",
        "outputId": "eff1ff80-5b98-48e8-8ea1-23fa0bb111a5"
      },
      "execution_count": null,
      "outputs": [
        {
          "output_type": "stream",
          "name": "stdout",
          "text": [
            "Enter base: 2\n",
            "Enter exponent: 5\n",
            "2 to the power 5 = 32\n"
          ]
        }
      ]
    },
    {
      "cell_type": "code",
      "source": [
        "#No.9 convert decimal number to binary\n",
        "def binary(n):\n",
        "  if n>1:\n",
        "    binary(n//2)\n",
        "  print(n%2,end=\"\")\n",
        "num = int(input(\"Enter Decimal Number: \"))\n",
        "bin = binary(num)"
      ],
      "metadata": {
        "id": "PiuhdDpMud8f",
        "colab": {
          "base_uri": "https://localhost:8080/"
        },
        "outputId": "7e252b65-e31a-49b9-a762-8e17a2bb868c"
      },
      "execution_count": null,
      "outputs": [
        {
          "output_type": "stream",
          "name": "stdout",
          "text": [
            "Enter Decimal Number: 15\n",
            "1111"
          ]
        }
      ]
    },
    {
      "cell_type": "code",
      "source": [
        "#10. check if number is Krishnamurthy number or not\n",
        "n = int(input(\"Enter a number: \"))\n",
        "temp = n\n",
        "sum = 0\n",
        "while(n!=0):\n",
        "  r=n%10\n",
        "  f=1\n",
        "  for i in range(1,r+1):\n",
        "    f=f*i\n",
        "  sum=sum+f\n",
        "  n=n//10\n",
        "if(sum==temp):\n",
        "  print(\"It is a Krishnamurthy Number!\")\n",
        "else:\n",
        "  print(\"It is not a Krishnamurthy Number!\")"
      ],
      "metadata": {
        "colab": {
          "base_uri": "https://localhost:8080/"
        },
        "id": "xq7xT8XooHXQ",
        "outputId": "fbeeaf9b-2db2-46f3-b731-e8f126aa9850"
      },
      "execution_count": null,
      "outputs": [
        {
          "output_type": "stream",
          "name": "stdout",
          "text": [
            "Enter a number: 145\n",
            "It is a Krishnamurthy Number!\n"
          ]
        }
      ]
    },
    {
      "cell_type": "code",
      "source": [
        "#11 sum of digits of a number\n",
        "n = int(input(\"Enter a number: \"))\n",
        "sum = 0\n",
        "while(n!=0):\n",
        "  r=n%10\n",
        "  sum=sum+r\n",
        "  n=n//10\n",
        "print(\"The sum is:\",sum)"
      ],
      "metadata": {
        "colab": {
          "base_uri": "https://localhost:8080/"
        },
        "id": "UZn_pihQw8km",
        "outputId": "393e20cf-2f2a-4b28-dba5-fee04cf809d0"
      },
      "execution_count": null,
      "outputs": [
        {
          "output_type": "stream",
          "name": "stdout",
          "text": [
            "Enter a number: 2345\n",
            "The sum is: 14\n"
          ]
        }
      ]
    },
    {
      "cell_type": "code",
      "source": [
        "#12 multiplication table\n",
        "n = int(input(\"Enter any number: \"))\n",
        "for i in range(1,11):\n",
        "  print(f\"{n}x{i} = {n*i}\")"
      ],
      "metadata": {
        "colab": {
          "base_uri": "https://localhost:8080/"
        },
        "id": "iT9fQdm0yuRX",
        "outputId": "70a379f8-36e4-4c60-fdbf-3d25a79ce3e2"
      },
      "execution_count": null,
      "outputs": [
        {
          "output_type": "stream",
          "name": "stdout",
          "text": [
            "Enter any number: 4\n",
            "4x1 = 4\n",
            "4x2 = 8\n",
            "4x3 = 12\n",
            "4x4 = 16\n",
            "4x5 = 20\n",
            "4x6 = 24\n",
            "4x7 = 28\n",
            "4x8 = 32\n",
            "4x9 = 36\n",
            "4x10 = 40\n"
          ]
        }
      ]
    },
    {
      "cell_type": "code",
      "source": [
        "#No.13 print series upto n terms: 1,2,6,24,120,720...\n",
        "n = int(input(\"Enter Range:\"))\n",
        "f=1\n",
        "i=2\n",
        "while f<=n :\n",
        "  print(f,end=\",\")\n",
        "  f=f*i\n",
        "  i =i+1"
      ],
      "metadata": {
        "colab": {
          "base_uri": "https://localhost:8080/"
        },
        "id": "6YXApP6k32OC",
        "outputId": "f73fc281-422e-4487-c619-65d4aa82d8c3"
      },
      "execution_count": null,
      "outputs": [
        {
          "output_type": "stream",
          "name": "stdout",
          "text": [
            "Enter Range:1000\n",
            "1,2,6,24,120,720,"
          ]
        }
      ]
    },
    {
      "cell_type": "code",
      "source": [
        "#No.14 Write a Python program to print the first 6 terms of a geometric sequence\n",
        "#starting with 2 and having a common ratio of 3.\n",
        "def printGP(a, r, n):\n",
        "\tfor i in range(0, n):\n",
        "\t\tcurr_term = a * pow(r, i)\n",
        "\t\tprint(curr_term, end =\" \")\n",
        "a=2\n",
        "r=3\n",
        "n=6\n",
        "printGP(a,r,n)"
      ],
      "metadata": {
        "colab": {
          "base_uri": "https://localhost:8080/"
        },
        "id": "6zz8u_hzzFqM",
        "outputId": "7c0e9e10-d4b7-4b83-e110-b09ed50449f6"
      },
      "execution_count": null,
      "outputs": [
        {
          "output_type": "stream",
          "name": "stdout",
          "text": [
            "2 6 18 54 162 486 "
          ]
        }
      ]
    },
    {
      "cell_type": "code",
      "source": [
        "#No.15 Write a Python program that prompts the user to enter a base number and an exponent,\n",
        "#then calculates the power of the base to the exponent.\n",
        "#without using exponentiation operator (**) or the math.pow() function.\n",
        "def CalculatePower(b,e):\n",
        "  P=1\n",
        "  for i in range(1, e+1):\n",
        "    P=P*b\n",
        "  return P\n",
        "base = int(input(\"Enter base: \"))\n",
        "exponent = int(input(\"Enter exponent: \"))\n",
        "print(f\"{base} to the power {exponent} = {CalculatePower(base,exponent)}\")"
      ],
      "metadata": {
        "colab": {
          "base_uri": "https://localhost:8080/"
        },
        "id": "_YBw_FFD2Twl",
        "outputId": "c82c5f6d-7157-4ad7-9e32-2e102af54b23"
      },
      "execution_count": null,
      "outputs": [
        {
          "output_type": "stream",
          "name": "stdout",
          "text": [
            "Enter base: 2\n",
            "Enter exponent: 3\n",
            "2 to the power 3 = 8\n"
          ]
        }
      ]
    },
    {
      "cell_type": "code",
      "source": [
        "#No.16 buzz number or not\n",
        "n = int(input(\"Enter a number: \"))\n",
        "if(n%7==0) or (n%10==7):\n",
        " print(f\"{n} is a Buzz Number.\")\n",
        "else:\n",
        "  print(f\"{n} is not a Buzz Number.\")"
      ],
      "metadata": {
        "colab": {
          "base_uri": "https://localhost:8080/"
        },
        "id": "NGlgS4HB5yVl",
        "outputId": "d848e519-b33b-4fe2-fa92-3e6bfffb473b"
      },
      "execution_count": null,
      "outputs": [
        {
          "output_type": "stream",
          "name": "stdout",
          "text": [
            "Enter a number: 49\n",
            "49 is a Buzz Number.\n"
          ]
        }
      ]
    },
    {
      "cell_type": "code",
      "source": [
        "#No.17 factorial of 12\n",
        "n=12\n",
        "f=1\n",
        "for i in range(1,n+1):\n",
        "  f=f*i\n",
        "print(f\"The factorial of 12 is {f}\")"
      ],
      "metadata": {
        "colab": {
          "base_uri": "https://localhost:8080/"
        },
        "id": "RNQgFgd897D3",
        "outputId": "0687bd1a-7c6b-47c5-bd61-9f9cd21e6546"
      },
      "execution_count": null,
      "outputs": [
        {
          "output_type": "stream",
          "name": "stdout",
          "text": [
            "The factorial of 12 is 479001600\n"
          ]
        }
      ]
    },
    {
      "cell_type": "code",
      "source": [
        "#No.18 Admission to a professional course is subject to the following conditions:\n",
        "# (a) marks in Mathematics >= 60 (b) marks in Physics >=50 (c) marks in Chemistry >=40 (d) Total in all 3 subjects >=200\n",
        "#(Or) Total in Maths & Physics>=150 Given the marks in the 3 subjects of n (user input) students\n",
        "# write a program to process the applications to list the eligible candidates.\n",
        "n = int(input(\"Enter no. of students: \"))\n",
        "total1 = 0\n",
        "total2 =0\n",
        "for i in range(1,n+1):\n",
        "  print(f\"Enter marks for student{i}:\")\n",
        "  m = int(input(\"Math: \"))\n",
        "  p = int(input(\"Physics: \"))\n",
        "  c = int(input(\"Chemistry: \"))\n",
        "  total1 = m+p+c\n",
        "  total2 = m+p\n",
        "  if (m>=60) and (p>= 50) and (c>=40) and( total1>= 200) or (total2>=150):\n",
        "    print(f\"student{i} is Eligible!\")\n",
        "  else:\n",
        "    print(f\"student{i} is Not Eligible!\")\n"
      ],
      "metadata": {
        "colab": {
          "base_uri": "https://localhost:8080/"
        },
        "id": "9umsNTjgAKYu",
        "outputId": "6ce02ded-c654-48a7-95f2-0edc74f6b541"
      },
      "execution_count": null,
      "outputs": [
        {
          "output_type": "stream",
          "name": "stdout",
          "text": [
            "Enter no. of students: 3\n",
            "Enter marks for student1:\n",
            "Math: 90\n",
            "Physics: 98\n",
            "Chemistry: 87\n",
            "student1 is Eligible!\n",
            "Enter marks for student2:\n",
            "Math: 45\n",
            "Physics: 64\n",
            "Chemistry: 96\n",
            "student2 is Not Eligible!\n",
            "Enter marks for student3:\n",
            "Math: 76\n",
            "Physics: 86\n",
            "Chemistry: 70\n",
            "student3 is Eligible!\n"
          ]
        }
      ]
    },
    {
      "cell_type": "code",
      "source": [
        "#No.19 calculate the sum of natural numbers up to a certain range\n",
        "n = int(input(\"Enter the range: \"))\n",
        "sum = 0\n",
        "for i in range(1,n+1):\n",
        "  sum = sum+i\n",
        "print(f\"The sum of first {n} natural numbers is {sum}\")"
      ],
      "metadata": {
        "colab": {
          "base_uri": "https://localhost:8080/"
        },
        "id": "XVwwrTZmS41N",
        "outputId": "75da1819-638a-4a70-99de-956b213a2f5c"
      },
      "execution_count": null,
      "outputs": [
        {
          "output_type": "stream",
          "name": "stdout",
          "text": [
            "Enter the range: 7\n",
            "The sum of first 7 natural numbers is 28\n"
          ]
        }
      ]
    },
    {
      "cell_type": "code",
      "source": [
        "#No.20 all multiple of 10 between a given interval\n",
        "n1 = int(input(\"Enter starting number: \"))\n",
        "n2 = int(input(\"Enter ending number: \"))\n",
        "for i in range(n1,n2):\n",
        "  if i%10==0:\n",
        "    print(i,end=\" \")\n",
        "print(f\" are multiple of 10 between interval [{n1},{n2}]. \")\n"
      ],
      "metadata": {
        "colab": {
          "base_uri": "https://localhost:8080/"
        },
        "id": "_YqKoCH2UJhe",
        "outputId": "ea7b8252-06e5-42c8-af75-0b34b81646c3"
      },
      "execution_count": null,
      "outputs": [
        {
          "output_type": "stream",
          "name": "stdout",
          "text": [
            "Enter starting number: 34\n",
            "Enter ending number: 67\n",
            "40 50 60  are multiple of 10 between interval [34,67]. \n"
          ]
        }
      ]
    },
    {
      "cell_type": "code",
      "source": [
        "#No.21 find HCF of two Numbers.\n",
        "def hcf(a,b):\n",
        "    if a > b:\n",
        "        smaller = b\n",
        "    else:\n",
        "        smaller = a\n",
        "    for i in range(1, smaller+1):\n",
        "        if((a % i == 0) and (b % i == 0)):\n",
        "            hcf = i\n",
        "    return hcf\n",
        "n1 = int(input(\"Enter 1st number: \"))\n",
        "n2 = int(input(\"Enter 2nd number: \"))\n",
        "print(f\"The HCF of given numbers is {hcf(n1,n2)}\")"
      ],
      "metadata": {
        "colab": {
          "base_uri": "https://localhost:8080/"
        },
        "id": "M1yPx53CXaDF",
        "outputId": "ce543fc2-8958-4a9d-a56b-7ddf76ff6c34"
      },
      "execution_count": null,
      "outputs": [
        {
          "output_type": "stream",
          "name": "stdout",
          "text": [
            "Enter 1st number: 60\n",
            "Enter 2nd number: 48\n",
            "The HCF of given numbers is 12\n"
          ]
        }
      ]
    },
    {
      "cell_type": "code",
      "source": [
        "#No.22 find LCM of two numbers\n",
        "def lcm(x, y):\n",
        "    if x > y:\n",
        "        greater = x\n",
        "    else:\n",
        "        greater = y\n",
        "    while(True):\n",
        "        if((greater % x == 0) and (greater % y == 0)):\n",
        "            lcm = greater\n",
        "            break\n",
        "        greater += 1\n",
        "    return lcm\n",
        "num1 = int(input(\"Enter first number: \"))\n",
        "num2 = int(input(\"Enter second number: \"))\n",
        "print(\"The L.C.M. of\", num1,\"and\", num2,\"is\", lcm(num1, num2))"
      ],
      "metadata": {
        "colab": {
          "base_uri": "https://localhost:8080/"
        },
        "id": "17hj2fUv5hwF",
        "outputId": "49fc9474-c8e1-41d4-c045-e2e8a5c020de"
      },
      "execution_count": null,
      "outputs": [
        {
          "output_type": "stream",
          "name": "stdout",
          "text": [
            "Enter first number: 20\n",
            "Enter second number: 25\n",
            "The L.C.M. of 20 and 25 is 100\n"
          ]
        }
      ]
    },
    {
      "cell_type": "code",
      "source": [
        "#No.23 count the number of digits of an integer\n",
        "n = int(input(\"Enter a number: \"))\n",
        "count=0\n",
        "temp=n\n",
        "while(temp!=0):\n",
        "  temp=temp//10\n",
        "  count+=1\n",
        "print(f\"Number of digits in {n} is {count}\")"
      ],
      "metadata": {
        "colab": {
          "base_uri": "https://localhost:8080/"
        },
        "id": "LAKWIxCd-RUK",
        "outputId": "5693779f-7e08-4cde-8cf9-b221be2af700"
      },
      "execution_count": null,
      "outputs": [
        {
          "output_type": "stream",
          "name": "stdout",
          "text": [
            "Enter a number: 34590\n",
            "Number of digits in 34590 is 5\n"
          ]
        }
      ]
    },
    {
      "cell_type": "code",
      "source": [
        "#No.24 check whether a number is prime or not\n",
        "num = int(input(\"Enter a number: \"))\n",
        "flag = False\n",
        "if num == 1:\n",
        "    print(num, \"is not a prime number\")\n",
        "elif num > 1:\n",
        "    for i in range(2, num):\n",
        "        if (num % i) == 0:\n",
        "            flag = True\n",
        "            break\n",
        "    if flag:\n",
        "        print(num, \"is not a prime number\")\n",
        "    else:\n",
        "        print(num, \"is a prime number\")"
      ],
      "metadata": {
        "colab": {
          "base_uri": "https://localhost:8080/"
        },
        "id": "dcmajHjTCvRH",
        "outputId": "747cfa8a-71dc-4a87-bab7-6376de84e356"
      },
      "execution_count": null,
      "outputs": [
        {
          "output_type": "stream",
          "name": "stdout",
          "text": [
            "Enter a number: 11\n",
            "11 is a prime number\n"
          ]
        }
      ]
    },
    {
      "cell_type": "code",
      "source": [
        "#No.25 find median of a set of numbers\n",
        "import statistics\n",
        "n= [4,8,5,9,2,8]\n",
        "print(f\"The median is: {statistics.median(n)}\")"
      ],
      "metadata": {
        "colab": {
          "base_uri": "https://localhost:8080/"
        },
        "id": "IIWJuW5xE8H5",
        "outputId": "889e1608-2ea7-4332-b25c-f7ee35d3bb8b"
      },
      "execution_count": null,
      "outputs": [
        {
          "output_type": "stream",
          "name": "stdout",
          "text": [
            "The median is: 6.5\n"
          ]
        }
      ]
    }
  ]
}