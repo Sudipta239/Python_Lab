{
  "cells": [
    {
      "cell_type": "code",
      "execution_count": null,
      "metadata": {
        "colab": {
          "base_uri": "https://localhost:8080/"
        },
        "id": "1oUITtdEowLd",
        "outputId": "5a9677d5-38da-4dc4-9681-63846e914f71"
      },
      "outputs": [
        {
          "name": "stdout",
          "output_type": "stream",
          "text": [
            "Enter a Number:32\n",
            "Temperature in Fahrenheit: 49.77777777777778\n"
          ]
        }
      ],
      "source": [
        "#No.1 convert temperature from Celsius to Fahrenheit\n",
        "celcius = int(input(\"Enter a Number:\"))\n",
        "fahrenheit = (celcius*5/9)+32\n",
        "print(\"Temperature in Fahrenheit:\",fahrenheit)"
      ]
    },
    {
      "cell_type": "code",
      "execution_count": null,
      "metadata": {
        "colab": {
          "base_uri": "https://localhost:8080/"
        },
        "id": "jr6lD2YbplOz",
        "outputId": "d7197509-2db8-4760-9349-ac7b2b855f85"
      },
      "outputs": [
        {
          "name": "stdout",
          "output_type": "stream",
          "text": [
            "enter first number:56\n",
            "enter second number:34\n",
            "Before Swapping:  56 34\n",
            "after swapping:  34 56\n"
          ]
        }
      ],
      "source": [
        "#No.2 Swap two number\n",
        "n= int(input(\"enter first number:\"))\n",
        "p = int(input(\"enter second number:\"))\n",
        "print(\"Before Swapping: \",n, p)\n",
        "temp = int\n",
        "temp = n\n",
        "n = p\n",
        "p = temp\n",
        "print(\"after swapping: \",n, p)"
      ]
    },
    {
      "cell_type": "code",
      "execution_count": null,
      "metadata": {
        "colab": {
          "base_uri": "https://localhost:8080/"
        },
        "id": "LCjetdKWqZHF",
        "outputId": "87790af2-2adf-44d9-eeb8-6d2a0499cb94"
      },
      "outputs": [
        {
          "name": "stdout",
          "output_type": "stream",
          "text": [
            "Enter a Year:2024\n",
            "2024  is a leapyear\n"
          ]
        }
      ],
      "source": [
        "#No.3 check whether a given year is Leap year or not.\n",
        "year = int(input(\"Enter a Year:\"))\n",
        "if (year % 400 == 0) and ( year % 100 == 0):\n",
        "   print (year, \" is a leapyear\")\n",
        "elif(year % 4 == 0) and (year % 100 != 0):\n",
        "   print(year, \" is a leapyear\")\n",
        "else:\n",
        "   print(year,\" is not a leapyear\")\n"
      ]
    },
    {
      "cell_type": "code",
      "execution_count": null,
      "metadata": {
        "colab": {
          "base_uri": "https://localhost:8080/"
        },
        "id": "cEGhcAwDrAP9",
        "outputId": "96875c81-5d70-4de8-adfa-fccadac30b85"
      },
      "outputs": [
        {
          "name": "stdout",
          "output_type": "stream",
          "text": [
            "Enter a Number:3456\n",
            "Reversed Number is : 6543\n"
          ]
        }
      ],
      "source": [
        "#No.4 display reverse of a number.\n",
        "n = int(input(\"Enter a Number:\"))\n",
        "reverse = 0\n",
        "while (n>0) :\n",
        "    remainder = n % 10\n",
        "    reverse = (reverse * 10) + remainder\n",
        "    n = n // 10\n",
        "print(\"Reversed Number is :\", reverse)\n"
      ]
    },
    {
      "cell_type": "code",
      "execution_count": null,
      "metadata": {
        "colab": {
          "base_uri": "https://localhost:8080/"
        },
        "id": "Z-P9XEBNrOxv",
        "outputId": "5d6df160-562d-4b1f-e159-cc8f8b326233"
      },
      "outputs": [
        {
          "name": "stdout",
          "output_type": "stream",
          "text": [
            "Enter a Number:12\n",
            "1\n",
            "2\n",
            "3\n",
            "4\n",
            "6\n",
            "12\n"
          ]
        }
      ],
      "source": [
        "#No.5 find factors of a given number.\n",
        "n = int(input(\"Enter a Number:\"))\n",
        "i = int\n",
        "for i in range (1, n+1) :\n",
        " if n % i == 0:\n",
        "  print(i)\n"
      ]
    },
    {
      "cell_type": "code",
      "execution_count": null,
      "metadata": {
        "colab": {
          "base_uri": "https://localhost:8080/"
        },
        "id": "14BFMTcOrayk",
        "outputId": "91670597-030c-4ade-d621-a9087d21be30"
      },
      "outputs": [
        {
          "name": "stdout",
          "output_type": "stream",
          "text": [
            "Enter a Range:11\n",
            "2\n",
            "3\n",
            "5\n",
            "7\n",
            "11\n"
          ]
        }
      ],
      "source": [
        "#No.6 generate prime number series up to n.\n",
        "n = int(input(\"Enter a Range:\"))\n",
        "i= int\n",
        "j = int\n",
        "for i in range(1, n+1):\n",
        "    if i > 1:\n",
        "     for j in range (2,i):\n",
        "      if(i%j)==0:\n",
        "        break\n",
        "     else:\n",
        "      print(i)\n"
      ]
    },
    {
      "cell_type": "code",
      "execution_count": null,
      "metadata": {
        "colab": {
          "base_uri": "https://localhost:8080/"
        },
        "id": "qNrHcZdasLWk",
        "outputId": "79074991-ed3e-4928-9a13-d4c504be53d5"
      },
      "outputs": [
        {
          "name": "stdout",
          "output_type": "stream",
          "text": [
            "[1001, 1008, 1022, 1029, 1036, 1043, 1057, 1064, 1071, 1078, 1092, 1099, 1106, 1113, 1127, 1134, 1141, 1148, 1162, 1169, 1176, 1183, 1197, 1204, 1211, 1218, 1232, 1239, 1246, 1253, 1267, 1274, 1281, 1288, 1302, 1309, 1316, 1323, 1337, 1344, 1351, 1358, 1372, 1379, 1386, 1393, 1407, 1414, 1421, 1428, 1442, 1449, 1456, 1463, 1477, 1484, 1491, 1498, 1512, 1519, 1526, 1533, 1547, 1554, 1561, 1568, 1582, 1589, 1596, 1603, 1617, 1624, 1631, 1638, 1652, 1659, 1666, 1673, 1687, 1694, 1701, 1708, 1722, 1729, 1736, 1743, 1757, 1764, 1771, 1778, 1792, 1799, 1806, 1813, 1827, 1834, 1841, 1848, 1862, 1869, 1876, 1883, 1897, 1904, 1911, 1918, 1932, 1939, 1946, 1953, 1967, 1974, 1981, 1988]\n"
          ]
        }
      ],
      "source": [
        "#No.7 program which makes use of a function to display all such numbers which are divisible by 7 but are not multiple by 5, between 1000 and 2000.\n",
        "i= int\n",
        "list = [i for i in range(1000,2000) if (i % 7 == 0) and (i % 5 != 0)]\n",
        "print(list, sep=',')\n"
      ]
    },
    {
      "cell_type": "code",
      "execution_count": null,
      "metadata": {
        "colab": {
          "base_uri": "https://localhost:8080/"
        },
        "id": "iIKN7BqpsbFl",
        "outputId": "04fd7d30-e9e8-44f1-bde3-7397e2e321a2"
      },
      "outputs": [
        {
          "name": "stdout",
          "output_type": "stream",
          "text": [
            "Enter number:343\n",
            "The number is a palindrome!\n"
          ]
        }
      ],
      "source": [
        "#No.8 check whether a number is a palindrome or not.\n",
        "n=int(input(\"Enter number:\"))\n",
        "temp=n\n",
        "rev=0\n",
        "while(n>0):\n",
        "    dig=n%10\n",
        "    rev=rev*10+dig\n",
        "    n=n//10\n",
        "if(temp==rev):\n",
        "    print(\"The number is a palindrome!\")\n",
        "else:\n",
        "    print(\"The number isn't a palindrome!\")\n"
      ]
    },
    {
      "cell_type": "code",
      "execution_count": null,
      "metadata": {
        "colab": {
          "base_uri": "https://localhost:8080/"
        },
        "id": "Y-bHGZYasu8V",
        "outputId": "ed1f8642-1e37-44bc-e0cc-0df051448b4a"
      },
      "outputs": [
        {
          "name": "stdout",
          "output_type": "stream",
          "text": [
            "Enter a Number:6\n",
            "It is a Perfect Number.\n",
            "Enter a Number: 153\n",
            "It is an Amstrong Number.\n"
          ]
        }
      ],
      "source": [
        "#No.9 check whether a number is perfect number\n",
        "n = int(input(\"Enter a Number:\"))\n",
        "sum = 0\n",
        "for i in range(1,n):\n",
        "    if(n % i == 0):\n",
        "        sum = sum + i\n",
        "if (n==sum):\n",
        "    print(\"It is a Perfect Number.\")\n",
        "else:\n",
        "    print(\"It is not a Perfect Number.\")\n",
        "#check whether a number is an Amstrong number\n",
        "n = int(input(\"Enter a Number: \"))\n",
        "sum = 0\n",
        "order = len(str(n))\n",
        "temp = n\n",
        "while n>0:\n",
        "    r = n % 10\n",
        "    sum += r ** order\n",
        "    n = n // 10\n",
        "if (temp == sum):\n",
        "    print(\"It is an Amstrong Number.\")\n",
        "else:\n",
        "    print(\"It is not an Amstrong Number.\")\n",
        "\n"
      ]
    },
    {
      "cell_type": "code",
      "execution_count": null,
      "metadata": {
        "colab": {
          "base_uri": "https://localhost:8080/"
        },
        "id": "s-2stbeotpcM",
        "outputId": "567829e2-4a80-4e5e-8ab8-b74eeddfb78d"
      },
      "outputs": [
        {
          "name": "stdout",
          "output_type": "stream",
          "text": [
            "How many terms? 5\n",
            "Fibonacci sequence:\n",
            "0\n",
            "1\n",
            "1\n",
            "2\n",
            "3\n"
          ]
        }
      ],
      "source": [
        "#N0.10 generate the Fibonacci series up to n.\n",
        "nterms = int(input(\"How many terms? \"))\n",
        "n1, n2 = 0, 1\n",
        "count = 0\n",
        "if nterms <= 0:\n",
        "   print(\"Please enter a positive integer\")\n",
        "elif nterms == 1:\n",
        "   print(\"Fibonacci sequence upto\",nterms,\":\")\n",
        "   print(n1)\n",
        "else:\n",
        "   print(\"Fibonacci sequence:\")\n",
        "   while count < nterms:\n",
        "       print(n1)\n",
        "       nth = n1 + n2\n",
        "       # update values\n",
        "       n1 = n2\n",
        "       n2 = nth\n",
        "       count += 1\n"
      ]
    },
    {
      "cell_type": "code",
      "execution_count": null,
      "metadata": {
        "colab": {
          "base_uri": "https://localhost:8080/"
        },
        "id": "mZxu_lQrt3dl",
        "outputId": "c22de91a-143b-4609-d15e-b9f8a90b99c6"
      },
      "outputs": [
        {
          "name": "stdout",
          "output_type": "stream",
          "text": [
            "Sudipta Dey\n"
          ]
        }
      ],
      "source": [
        "#No.11 print your name\n",
        "print(\"Sudipta Dey\")"
      ]
    },
    {
      "cell_type": "code",
      "execution_count": null,
      "metadata": {
        "colab": {
          "base_uri": "https://localhost:8080/"
        },
        "id": "LPx07r3luJVj",
        "outputId": "65298658-5567-44db-edc1-d04feca84692"
      },
      "outputs": [
        {
          "name": "stdout",
          "output_type": "stream",
          "text": [
            "Enter first number:23\n",
            "Enter second number:12\n",
            "The sum is:  35\n"
          ]
        }
      ],
      "source": [
        "#No.12 add two number\n",
        "n1 = int(input(\"Enter first number:\"))\n",
        "n2 = int(input(\"Enter second number:\"))\n",
        "sum = n1+n2\n",
        "print(\"The sum is: \",sum)"
      ]
    },
    {
      "cell_type": "code",
      "execution_count": null,
      "metadata": {
        "colab": {
          "base_uri": "https://localhost:8080/"
        },
        "id": "zBRoV1CHvMTj",
        "outputId": "58bbef2a-1785-4814-f74e-29f9e2a2785f"
      },
      "outputs": [
        {
          "name": "stdout",
          "output_type": "stream",
          "text": [
            "Enter a Number:104.0\n",
            "Temperature in Celsius: 32\n"
          ]
        }
      ],
      "source": [
        "#No.13 convert temperature from Fahrenheit to celsius\n",
        "fahrenheit = float(input(\"Enter a Number:\"))\n",
        "celsius = (fahrenheit-32)/1.8\n",
        "print(\"Temperature in Celsius:\",celcius)"
      ]
    },
    {
      "cell_type": "code",
      "execution_count": null,
      "metadata": {
        "colab": {
          "base_uri": "https://localhost:8080/"
        },
        "id": "NxQnqoGIwAoU",
        "outputId": "1f431d34-9122-4ecb-8377-3715778c6c41"
      },
      "outputs": [
        {
          "name": "stdout",
          "output_type": "stream",
          "text": [
            "Enter Length: 2.3\n",
            "Enter Breadth: 3.4\n",
            "Area:  7.819999999999999 and Perimeter:  11.399999999999999\n"
          ]
        }
      ],
      "source": [
        "#No.14 find Area and Perimeter of a Rectangle\n",
        "l = float(input(\"Enter Length: \"))\n",
        "b = float(input(\"Enter Breadth: \"))\n",
        "area = l*b\n",
        "perimeter = 2*(l+b)\n",
        "print(\"Area: \",area,\"and Perimeter: \",perimeter)"
      ]
    },
    {
      "cell_type": "code",
      "execution_count": null,
      "metadata": {
        "colab": {
          "base_uri": "https://localhost:8080/"
        },
        "id": "vKsfzWMQxEFl",
        "outputId": "c515f5ae-d645-4cc4-a2d5-8b5b61815532"
      },
      "outputs": [
        {
          "name": "stdout",
          "output_type": "stream",
          "text": [
            "Enter Radius: 3\n",
            "Area:  28.259999999999998 and Perimeter:  18.84\n"
          ]
        }
      ],
      "source": [
        "#No.15 find Area and Perimeter of a Circle\n",
        "r = float(input(\"Enter Radius: \"))\n",
        "area = 3.14*r*r\n",
        "perimeter = 2*3.14*r\n",
        "print(\"Area: \",area, \"and Perimeter: \",perimeter)"
      ]
    },
    {
      "cell_type": "code",
      "execution_count": null,
      "metadata": {
        "colab": {
          "base_uri": "https://localhost:8080/"
        },
        "id": "WqIp6KRsx5z0",
        "outputId": "67b1a99c-e063-4ea5-f56f-c52a506b9507"
      },
      "outputs": [
        {
          "name": "stdout",
          "output_type": "stream",
          "text": [
            "Enter a number: 5\n",
            "5 is Odd!\n"
          ]
        }
      ],
      "source": [
        "#No.16 odd or even\n",
        "n = int(input(\"Enter a number: \"))\n",
        "if n%2==0:\n",
        "  print(n,\"is Even!\")\n",
        "else:\n",
        "  print(n,\"is Odd!\")"
      ]
    },
    {
      "cell_type": "code",
      "execution_count": null,
      "metadata": {
        "colab": {
          "base_uri": "https://localhost:8080/"
        },
        "id": "HPJN0x1oy-WT",
        "outputId": "a0333dbd-7a38-40d1-bed7-20a7624151b0"
      },
      "outputs": [
        {
          "name": "stdout",
          "output_type": "stream",
          "text": [
            "Enter a number: -2\n",
            "-2 is Negative!\n"
          ]
        }
      ],
      "source": [
        "#No.17 positive or negative\n",
        "n = int(input(\"Enter a number: \"))\n",
        "if n>0:\n",
        "  print(n, \"is Positive!\")\n",
        "elif n==0:\n",
        "  print(n, \"is Zero!\")\n",
        "else:\n",
        "  print(n, \"is Negative!\")"
      ]
    },
    {
      "cell_type": "code",
      "execution_count": null,
      "metadata": {
        "colab": {
          "base_uri": "https://localhost:8080/"
        },
        "id": "q4n3Z_DHz4xP",
        "outputId": "b461eff5-9088-46a5-82ab-125ee5791b2a"
      },
      "outputs": [
        {
          "name": "stdout",
          "output_type": "stream",
          "text": [
            "Enter first number: 12\n",
            "Enter second number: 34\n",
            "Enter third number: 45\n",
            "45 is Maximum.\n"
          ]
        }
      ],
      "source": [
        "#No.18 maximum of three numbers\n",
        "a = int(input(\"Enter first number: \"))\n",
        "b = int(input(\"Enter second number: \"))\n",
        "c = int(input(\"Enter third number: \"))\n",
        "if a>=b and a>=c:\n",
        "  print(a, \"is Maximum.\")\n",
        "elif b>=a and b>=c:\n",
        "  print(b, \"is Maximum.\")\n",
        "else:\n",
        "  print(c, \"is Maximum.\")"
      ]
    },
    {
      "cell_type": "code",
      "execution_count": null,
      "metadata": {
        "colab": {
          "base_uri": "https://localhost:8080/"
        },
        "id": "bRUsr2Eq0yJk",
        "outputId": "82068c8e-2ce9-4607-c745-c579110f932a"
      },
      "outputs": [
        {
          "name": "stdout",
          "output_type": "stream",
          "text": [
            "Enter Mile: 12\n",
            "Kilometer:  19.31208\n"
          ]
        }
      ],
      "source": [
        "#No.19 convert Miles to Kilometer\n",
        "mile = float(input(\"Enter Mile: \"))\n",
        "km = mile*1.60934\n",
        "print(\"Kilometer: \",km)"
      ]
    },
    {
      "cell_type": "code",
      "execution_count": null,
      "metadata": {
        "colab": {
          "base_uri": "https://localhost:8080/"
        },
        "id": "kOXmUv-W1kAk",
        "outputId": "165c0fa9-3071-4fef-9b2f-db31fa11cba2"
      },
      "outputs": [
        {
          "name": "stdout",
          "output_type": "stream",
          "text": [
            "Enter Percentage: 78\n",
            "Grade C\n"
          ]
        }
      ],
      "source": [
        "#No.20 Write a program for following grading system. Note: Percentage>=90% : Grade A Percentage>=80% : Grade B Percentage>=70% : Grade C Percentage>=60% : Grade D Percentage>=40% : Grade E Percentage <40%:Grade F\n",
        "p = float(input(\"Enter Percentage: \"))\n",
        "if p>=90:\n",
        "  print(\"Grade A\")\n",
        "elif p>=80:\n",
        "  print(\"Grade B\")\n",
        "elif p>=70:\n",
        "  print(\"Grade C\")\n",
        "elif p>=60:\n",
        "  print(\"Grade D\")\n",
        "elif p>=40:\n",
        "  print(\"Grade E\")\n",
        "else:\n",
        "  print(\"Grade F\")"
      ]
    }
  ],
  "metadata": {
    "colab": {
      "provenance": []
    },
    "kernelspec": {
      "display_name": "Python 3",
      "name": "python3"
    },
    "language_info": {
      "name": "python"
    }
  },
  "nbformat": 4,
  "nbformat_minor": 0
}
